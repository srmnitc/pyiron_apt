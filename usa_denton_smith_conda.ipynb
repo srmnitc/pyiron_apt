{
 "cells": [
  {
   "cell_type": "markdown",
   "id": "dcbff81b",
   "metadata": {},
   "source": [
    "<div class=\"alert alert-block alert-info\">paraprobe-toolbox.</div>"
   ]
  },
  {
   "cell_type": "markdown",
   "id": "cff1ee7c",
   "metadata": {},
   "source": [
    "# A comprehensive example with a small \"silicon post\"\n",
    "\n",
    "**Markus Kühbach** (Department of Physics, Humboldt-Universität zu Berlin)<br>\n",
    "Jesse Smith, Marcus Young (both at their times with the University of North Texas, Denton)"
   ]
  },
  {
   "cell_type": "markdown",
   "id": "57e64713",
   "metadata": {
    "heading_collapsed": "true",
    "tags": []
   },
   "source": [
    "## Contextualization / Problem statement\n",
    "***"
   ]
  },
  {
   "cell_type": "markdown",
   "id": "41095f08",
   "metadata": {
    "heading_collapsed": "true"
   },
   "source": [
    "This is a tutorial on how to use the paraprobe-toolbox for processing a dataset useful for<br>\n",
    "testing purposes and development.<br>\n",
    "The dataset is a \"silicon post\" which is used in atom probe as the base onto which the<br>\n",
    "actual samples are placed. <a href=\"https://gitlab.com/jesseds/apav/-/tree/JOSS/apav/tests\">The dataset is part of the APAV Python library</a>.<br>"
   ]
  },
  {
   "cell_type": "markdown",
   "id": "1f18ac6b",
   "metadata": {
    "heading_collapsed": "true"
   },
   "source": [
    "## Get the toolbox ready\n",
    "***"
   ]
  },
  {
   "cell_type": "markdown",
   "id": "8af666bc",
   "metadata": {
    "heading_collapsed": "true"
   },
   "source": [
    "### Specify the location of the paraprobe-toolbox."
   ]
  },
  {
   "cell_type": "code",
   "execution_count": 1,
   "id": "e0bdc59e",
   "metadata": {
    "hidden": true,
    "tags": []
   },
   "outputs": [
    {
     "name": "stdout",
     "output_type": "stream",
     "text": [
      "Current working directory is\n",
      "/mnt/c/Users/menon/Documents/repos/projects-iuc09/paraprobe-workflow\n"
     ]
    }
   ],
   "source": [
    "# specify where the toolbox is installed\n",
    "# MYTOOLBOXPATH=\"<<YOUR PREFIX>>/paraprobe-toolbox\"\n",
    "MYTOOLBOXPATH=\"../../../\"\n",
    "from jupyterlab_h5web import H5Web\n",
    "from IPython.display import Image\n",
    "import sys, os, h5py, numpy as np\n",
    "sys.path.append(f\"{MYTOOLBOXPATH}/code\")\n",
    "print(f\"Current working directory is\\n{os.getcwd()}\")"
   ]
  },
  {
   "cell_type": "markdown",
   "id": "ed4f52ba",
   "metadata": {
    "heading_collapsed": "true"
   },
   "source": [
    "### Load the tools of the toolbox."
   ]
  },
  {
   "cell_type": "code",
   "execution_count": 2,
   "id": "8b61b955-23bc-416e-a502-a210a5236cb1",
   "metadata": {},
   "outputs": [],
   "source": [
    "from paraprobe_utils.numerics import EPSILON, get_file_size, get_std\n",
    "from paraprobe_utils.primscontinuum import RoiRotatedCuboid, RoiRotatedCylinder, RoiSphere\n",
    "\n",
    "from paraprobe_parmsetup.transcoder_config import ParmsetupTranscoder, TranscodingTask\n",
    "from paraprobe_parmsetup.ranger_config import ParmsetupRanger, ApplyExistentRanging\n",
    "from paraprobe_parmsetup.selector_config import ParmsetupSelector, RoiSelectionTask\n",
    "from paraprobe_parmsetup.surfacer_config import ParmsetupSurfacer, SurfaceMeshingTask\n",
    "from paraprobe_parmsetup.distancer_config import ParmsetupDistancer, PointToTriangleSetDistancing\n",
    "from paraprobe_parmsetup.tessellator_config import ParmsetupTessellator, TessellationTask\n",
    "from paraprobe_parmsetup.spatstat_config import ParmsetupSpatstat, SpatstatTask\n",
    "from paraprobe_parmsetup.nanochem_config import ParmsetupNanochem, Delocalization, InterfaceMeshing, OnedProfiles\n",
    "from paraprobe_parmsetup.intersector_config import ParmsetupIntersector, VolumeFeatureSubSet, VolumeFeatureSet, VolumeVolumeTask\n",
    "from paraprobe_parmsetup.clusterer_config import ParmsetupClusterer, ClustererTask\n",
    "# Python transcoder utility tool which imports file formats from the atom probe community\n",
    "from paraprobe_transcoder import ParaprobeTranscoder\n",
    "from paraprobe_clusterer.paraprobe_clusterer import ParaprobeClusterer"
   ]
  },
  {
   "cell_type": "code",
   "execution_count": null,
   "id": "3cefa38d-3ce1-41cc-a156-018e36454733",
   "metadata": {},
   "outputs": [],
   "source": []
  },
  {
   "cell_type": "code",
   "execution_count": 6,
   "id": "4ba65f80",
   "metadata": {
    "hidden": true,
    "tags": []
   },
   "outputs": [
    {
     "ename": "ModuleNotFoundError",
     "evalue": "No module named 'utils'",
     "output_type": "error",
     "traceback": [
      "\u001b[0;31m---------------------------------------------------------------------------\u001b[0m",
      "\u001b[0;31mModuleNotFoundError\u001b[0m                       Traceback (most recent call last)",
      "Cell \u001b[0;32mIn[6], line 2\u001b[0m\n\u001b[1;32m      1\u001b[0m \u001b[38;5;66;03m# Python parmsetup utility tool which creates NeXus/HDF5 configuration files\u001b[39;00m\n\u001b[0;32m----> 2\u001b[0m \u001b[38;5;28;01mfrom\u001b[39;00m \u001b[38;5;21;01mutils\u001b[39;00m\u001b[38;5;21;01m.\u001b[39;00m\u001b[38;5;21;01msrc\u001b[39;00m\u001b[38;5;21;01m.\u001b[39;00m\u001b[38;5;21;01mpython\u001b[39;00m\u001b[38;5;21;01m.\u001b[39;00m\u001b[38;5;21;01mnumerics\u001b[39;00m \u001b[38;5;28;01mimport\u001b[39;00m EPSILON, get_file_size, get_std\n\u001b[1;32m      3\u001b[0m \u001b[38;5;28;01mfrom\u001b[39;00m \u001b[38;5;21;01mutils\u001b[39;00m\u001b[38;5;21;01m.\u001b[39;00m\u001b[38;5;21;01msrc\u001b[39;00m\u001b[38;5;21;01m.\u001b[39;00m\u001b[38;5;21;01mpython\u001b[39;00m\u001b[38;5;21;01m.\u001b[39;00m\u001b[38;5;21;01mprimscontinuum\u001b[39;00m \u001b[38;5;28;01mimport\u001b[39;00m RoiRotatedCuboid, RoiRotatedCylinder, RoiSphere\n\u001b[1;32m      4\u001b[0m \u001b[38;5;28;01mfrom\u001b[39;00m \u001b[38;5;21;01mparmsetup\u001b[39;00m\u001b[38;5;21;01m.\u001b[39;00m\u001b[38;5;21;01msrc\u001b[39;00m\u001b[38;5;21;01m.\u001b[39;00m\u001b[38;5;21;01mpython\u001b[39;00m\u001b[38;5;21;01m.\u001b[39;00m\u001b[38;5;21;01mtranscoder_config\u001b[39;00m \u001b[38;5;28;01mimport\u001b[39;00m ParmsetupTranscoder, TranscodingTask\n",
      "\u001b[0;31mModuleNotFoundError\u001b[0m: No module named 'utils'"
     ]
    }
   ],
   "source": [
    "# Python parmsetup utility tool which creates NeXus/HDF5 configuration files\n",
    "\n",
    "\n",
    "\n",
    "# C/C++ tools of the toolbox\n",
    "# you can use the path in the respective paraprobe-<<toolname>>/build/paraprobe_<<toolname>>\n",
    "# Python reporter utility tool for reproducible Python post-processing and visualization\n",
    "from reporter.src.python.ranger_report import ReporterRanger\n",
    "from reporter.src.python.selector_report import ReporterSelector\n",
    "from reporter.src.python.surfacer_report import ReporterSurfacer\n",
    "from reporter.src.python.distancer_report import ReporterDistancer\n",
    "from reporter.src.python.tessellator_report import ReporterTessellator\n",
    "from reporter.src.python.spatstat_report import ReporterSpatstat\n",
    "from reporter.src.python.nanochem_report import ReporterNanochem\n",
    "from reporter.src.python.intersector_report import ReporterIntersector\n",
    "from reporter.src.python.clusterer_report import ReporterClusterer\n",
    "# comment in or out the relevant H5Web lines in those cells where you would like to inspect\n",
    "# configuration file or results file pieces of information\n",
    "# by default the H5Web lines have been commented out to run the notebook through\n",
    "# with a single click of a button and not getting stopped with having to\n",
    "# inspect H5Web interactive widgets\n",
    "MYOMP=int(os.cpu_count() / 2)  # assuming that most CPUs are built from hyperthreading-capable core pairs\n",
    "print(f\"Multithreaded processing with {MYOMP} OpenMP threads.\")"
   ]
  },
  {
   "cell_type": "markdown",
   "id": "ae92c16f",
   "metadata": {
    "heading_collapsed": "true"
   },
   "source": [
    "To learn how to handle and work with iontypes in paraprobe please inspect the specific tutorials."
   ]
  },
  {
   "cell_type": "markdown",
   "id": "84ef6f83",
   "metadata": {
    "heading_collapsed": "true",
    "tags": []
   },
   "source": [
    "# 1. Pre-processing\n",
    "***"
   ]
  },
  {
   "cell_type": "markdown",
   "id": "33f7720e",
   "metadata": {
    "tags": []
   },
   "source": [
    "### Specify the location(s) of the your dataset(s)."
   ]
  },
  {
   "cell_type": "code",
   "execution_count": 3,
   "id": "1782b61a-fc84-4bef-86cb-5f0f1aacb2ff",
   "metadata": {},
   "outputs": [],
   "source": [
    "import os\n",
    "import numpy as np"
   ]
  },
  {
   "cell_type": "code",
   "execution_count": 4,
   "id": "ca552674",
   "metadata": {
    "tags": []
   },
   "outputs": [
    {
     "name": "stdout",
     "output_type": "stream",
     "text": [
      "[1]\n"
     ]
    }
   ],
   "source": [
    "# specify the location where you have your data on the system\n",
    "MY_MEASURED_DATA_PATH = os.getcwd()\n",
    "\n",
    "\n",
    "# specify disjoint identifier with which all config and results files for this analysis will be tagged.\n",
    "jobids = [1]\n",
    "for jobid in jobids:\n",
    "    assert isinstance(jobid, int), \"identifier needs to be an unsigned integer !\"\n",
    "    assert jobid != 0, \"identifier must not be 0 !\"\n",
    "    assert jobid <= np.iinfo(np.uint32).max, \"identifier needs to be on interval [1, 4294967295]\"\n",
    "print(jobids)\n",
    "\n",
    "RECONSTRUCTION_AND_RANGING = {}\n",
    "RECONSTRUCTION_AND_RANGING[jobids[0]] = (\"Si.apt\", \"Si.RNG\")"
   ]
  },
  {
   "cell_type": "markdown",
   "id": "6c760a55",
   "metadata": {
    "tags": []
   },
   "source": [
    "## Import your data (from e.g. IVAS/APSuite, community tool) into the paraprobe-toolbox."
   ]
  },
  {
   "cell_type": "code",
   "execution_count": 5,
   "id": "565aa70a",
   "metadata": {
    "hidden": true,
    "scrolled": true,
    "tags": []
   },
   "outputs": [
    {
     "name": "stdout",
     "output_type": "stream",
     "text": [
      "Computing SHA256 hash for file named /mnt/c/Users/menon/Documents/repos/projects-iuc09/paraprobe-workflow/Si.apt\n",
      "Computing SHA256 hash for file named /mnt/c/Users/menon/Documents/repos/projects-iuc09/paraprobe-workflow/Si.RNG\n",
      "Inspecting whether NeXus/HDF5 is used...\n",
      "The reconstruction and ranging come from files of technology\n",
      "partners but the paraprobe-toolbox uses NeXus/HDF5.\n",
      "Hence, paraprobe-transcoder will transcode to NeXus/HDF5.\n",
      "Writing configuration file ...\n",
      "PARAPROBE.Transcoder.Config.SimID.1.nxs was written successfully\n",
      "{1: 'PARAPROBE.Transcoder.Config.SimID.1.nxs'}\n"
     ]
    }
   ],
   "source": [
    "# configure the paraprobe-transcoder tool\n",
    "TRANSCODER_CONFIG = {}\n",
    "for jobid in jobids:\n",
    "    transcoder = ParmsetupTranscoder()\n",
    "    TRANSCODER_CONFIG[jobid] = transcoder.load_reconstruction_and_ranging(\n",
    "        recon_fpath=f\"{MY_MEASURED_DATA_PATH}/{RECONSTRUCTION_AND_RANGING[jobid][0]}\",\n",
    "        range_fpath=f\"{MY_MEASURED_DATA_PATH}/{RECONSTRUCTION_AND_RANGING[jobid][1]}\",\n",
    "        jobid=jobid)\n",
    "print(TRANSCODER_CONFIG)"
   ]
  },
  {
   "cell_type": "code",
   "execution_count": 6,
   "id": "f056d8b9",
   "metadata": {
    "scrolled": true,
    "tags": []
   },
   "outputs": [
    {
     "name": "stdout",
     "output_type": "stream",
     "text": [
      "0.019 MiB\n"
     ]
    }
   ],
   "source": [
    "# optional inspect configuration\n",
    "get_file_size(TRANSCODER_CONFIG[jobid])\n",
    "# H5Web(TRANSCODER_CONFIG[jobid])"
   ]
  },
  {
   "cell_type": "code",
   "execution_count": 7,
   "id": "447306f2",
   "metadata": {
    "hidden": true,
    "scrolled": true,
    "tags": []
   },
   "outputs": [
    {
     "name": "stdout",
     "output_type": "stream",
     "text": [
      "/entry1/transcode/reconstruction/path, /entry1/transcode/ranging/path\n",
      "True\n",
      "Processing configuration file: PARAPROBE.Transcoder.Config.SimID.1.nxs\n",
      "Processing reconstruction: /mnt/c/Users/menon/Documents/repos/projects-iuc09/paraprobe-workflow/Si.apt\n",
      "Processing ranging: /mnt/c/Users/menon/Documents/repos/projects-iuc09/paraprobe-workflow/Si.RNG\n",
      "Results file: PARAPROBE.Transcoder.Results.SimID.1.nxs\n",
      "Input reconstruction and ranging definitions use files from\n",
      "technology partners (POS, ePOS, APT, RRNG, RNG) or other\n",
      "file formats from the community. These will be transcoded to NeXus...\n",
      "Computing SHA256 hash for file named PARAPROBE.Transcoder.Config.SimID.1.nxs\n",
      "Reading /mnt/c/Users/menon/Documents/repos/projects-iuc09/paraprobe-workflow/Si.apt which is 37810040 B\n",
      "File describes 945211 ions\n",
      "Currently at byte_offset 540 B\n",
      "keyword: tofc, found_section: [([83, 69, 67,  0], 148, 2, [116, 111, 102,  99,   0,   0,   0,   0,   0,   0,   0,   0,   0,   0,   0,   0,   0,   0,   0,   0,   0,   0,   0,   0,   0,   0,   0,   0,   0,   0,   0,   0], 1, 1, 1, 3, 32, 4, [110, 115,   0,   0,   0,   0,   0,   0,   0,   0,   0,   0,   0,   0,   0,   0], 945211, 3780844)]\n",
      "Byte offset for reading data for section: tofc 3781532 B\n",
      "keyword: Mass, found_section: [([83, 69, 67,  0], 148, 2, [ 77,  97, 115, 115,   0,   0,   0,   0,   0,   0,   0,   0,   0,   0,   0,   0,   0,   0,   0,   0,   0,   0,   0,   0,   0,   0,   0,   0,   0,   0,   0,   0], 1, 1, 1, 3, 32, 4, [68, 97,  0,  0,  0,  0,  0,  0,  0,  0,  0,  0,  0,  0,  0,  0], 945211, 3780844)]\n",
      "Byte offset for reading data for section: Mass 7562524 B\n",
      "keyword: XDet_mm, found_section: [([83, 69, 67,  0], 148, 2, [ 88,  68, 101, 116,  95, 109, 109,   0,   0,   0,   0,   0,   0,   0,   0,   0,   0,   0,   0,   0,   0,   0,   0,   0,   0,   0,   0,   0,   0,   0,   0,   0], 1, 1, 1, 3, 32, 4, [109, 109,   0,   0,   0,   0,   0,   0,   0,   0,   0,   0,   0,   0,   0,   0], 945211, 3780844)]\n",
      "Byte offset for reading data for section: XDet_mm 11343516 B\n",
      "keyword: YDet_mm, found_section: [([83, 69, 67,  0], 148, 2, [ 89,  68, 101, 116,  95, 109, 109,   0,   0,   0,   0,   0,   0,   0,   0,   0,   0,   0,   0,   0,   0,   0,   0,   0,   0,   0,   0,   0,   0,   0,   0,   0], 1, 1, 1, 3, 32, 4, [109, 109,   0,   0,   0,   0,   0,   0,   0,   0,   0,   0,   0,   0,   0,   0], 945211, 3780844)]\n",
      "Byte offset for reading data for section: YDet_mm 15124508 B\n",
      "keyword: Multiplicity, found_section: [([83, 69, 67,  0], 148, 2, [ 77, 117, 108, 116, 105, 112, 108, 105,  99, 105, 116, 121,   0,   0,   0,   0,   0,   0,   0,   0,   0,   0,   0,   0,   0,   0,   0,   0,   0,   0,   0,   0], 1, 1, 1, 1, 32, 4, [0, 0, 0, 0, 0, 0, 0, 0, 0, 0, 0, 0, 0, 0, 0, 0], 945211, 3780844)]\n",
      "Byte offset for reading data for section: Multiplicity 18905500 B\n",
      "keyword: Detector Coordinates, found_section: [([83, 69, 67,  0], 148, 2, [ 68, 101, 116, 101,  99, 116, 111, 114,  32,  67, 111, 111, 114, 100, 105, 110,  97, 116, 101, 115,   0,   0,   0,   0,   0,   0,   0,   0,   0,   0,   0,   0], 1, 1, 1, 3, 32, 8, [109, 109,   0,   0,   0,   0,   0,   0,   0,   0,   0,   0,   0,   0,   0,   0], 945211, 7561688)]\n",
      "Byte offset for reading data for section: Detector Coordinates 26467336 B\n",
      "keyword: Position, found_section: [([83, 69, 67,  0], 172, 2, [ 80, 111, 115, 105, 116, 105, 111, 110,   0,   0,   0,   0,   0,   0,   0,   0,   0,   0,   0,   0,   0,   0,   0,   0,   0,   0,   0,   0,   0,   0,   0,   0], 1, 1, 1, 3, 32, 12, [110, 109,   0,   0,   0,   0,   0,   0,   0,   0,   0,   0,   0,   0,   0,   0], 945211, 11342532)]\n",
      "Byte offset for reading data for section: Position 37810040 B\n",
      "End of file at 37810040 B\n",
      "Reading section Position at 26467508\n",
      "Reading section Mass at 3781680\n",
      "Transcoded reconstruction and mass-to-charge-state-ratio values\n",
      "/mnt/c/Users/menon/Documents/repos/projects-iuc09/paraprobe-workflow/Si.RNG parsed successfully\n",
      "Transcoded ranging data for /mnt/c/Users/menon/Documents/repos/projects-iuc09/paraprobe-workflow/Si.RNG\n",
      "Supported file formats are *.analysis, *.env, *.h5, *.fig.txt, *.rng, *.rrng !\n",
      "Transcoded ranging definitions\n",
      "paraprobe-transcoder success\n",
      "{1: 'PARAPROBE.Transcoder.Results.SimID.1.nxs'}\n"
     ]
    }
   ],
   "source": [
    "# execute paraprobe-transcoder Python tool\n",
    "TRANSCODER_RESULTS = {}\n",
    "for jobid in jobids:\n",
    "    transcoder = ParaprobeTranscoder(TRANSCODER_CONFIG[jobid])\n",
    "    TRANSCODER_RESULTS[jobid] = transcoder.execute()\n",
    "print(TRANSCODER_RESULTS)"
   ]
  },
  {
   "cell_type": "code",
   "execution_count": 8,
   "id": "4373deda",
   "metadata": {
    "hidden": true,
    "tags": []
   },
   "outputs": [
    {
     "name": "stdout",
     "output_type": "stream",
     "text": [
      "16.239 MiB\n"
     ]
    }
   ],
   "source": [
    "# inspect paraprobe-transcoder results\n",
    "get_file_size(TRANSCODER_RESULTS[jobid])\n",
    "# H5Web(TRANSCODER_RESULTS[jobid])"
   ]
  },
  {
   "cell_type": "code",
   "execution_count": null,
   "id": "3f69a6bf",
   "metadata": {
    "tags": []
   },
   "outputs": [],
   "source": [
    "# perform additional customized data analyses here if desired"
   ]
  },
  {
   "cell_type": "markdown",
   "id": "5b4a19cc",
   "metadata": {
    "tags": []
   },
   "source": [
    "## Apply existent ranging definitions."
   ]
  },
  {
   "cell_type": "code",
   "execution_count": 10,
   "id": "99d29930",
   "metadata": {
    "hidden": true,
    "tags": []
   },
   "outputs": [
    {
     "name": "stdout",
     "output_type": "stream",
     "text": [
      "Computing SHA256 hash for file named PARAPROBE.Transcoder.Results.SimID.1.nxs\n",
      "Writing configuration file ...\n",
      "PARAPROBE.Ranger.Config.SimID.1.nxs was written successfully\n",
      "{1: 'PARAPROBE.Ranger.Config.SimID.1.nxs'}\n"
     ]
    }
   ],
   "source": [
    "# configure paraprobe-ranger\n",
    "RANGER_CONFIG = {}\n",
    "for jobid in jobids:\n",
    "    ranger = ParmsetupRanger()\n",
    "    RANGER_CONFIG[jobid] = ranger.apply_existent_ranging_definitions(\n",
    "        recon_fpath=f\"PARAPROBE.Transcoder.Results.SimID.{jobid}.nxs\",\n",
    "        range_fpath=\"\", jobid=jobid)\n",
    "print(RANGER_CONFIG)"
   ]
  },
  {
   "cell_type": "code",
   "execution_count": 11,
   "id": "83e8771a",
   "metadata": {
    "tags": []
   },
   "outputs": [
    {
     "name": "stdout",
     "output_type": "stream",
     "text": [
      "0.02 MiB\n"
     ]
    }
   ],
   "source": [
    "# inspect config file if desired\n",
    "get_file_size(RANGER_CONFIG[jobid])\n",
    "# H5Web(RANGER_CONFIG[jobid])"
   ]
  },
  {
   "cell_type": "code",
   "execution_count": 21,
   "id": "30a0f7c8",
   "metadata": {
    "hidden": true,
    "scrolled": true,
    "tags": []
   },
   "outputs": [
    {
     "name": "stdout",
     "output_type": "stream",
     "text": [
      "\n",
      "libgomp: Invalid value for environment variable OMP_NUM_THREADS: \n",
      "paraprobe-ranger\n",
      "A tool of the paraprobe-toolbox supporting FAIR materials science research\n",
      "Supporting the community with strong-scaling and open tools for robust and automated uncertainty quantification...\n",
      "\n",
      "The compiled code of this tool uses the source code with the following GitSha:\n",
      "v0.4\n",
      "\"v0.5.1\"\n",
      "Preprocessor run\n",
      "Jun 20 2024\n",
      "10:51:13\n",
      "Paraprobe can be cited via the following papers...\n",
      "Collecting 5 publications for the tool to cite:\n",
      "Article\n",
      "M. K\"uhbach and P. Bajaj and A. Breen and E. A. J\"agle and B. Gault\n",
      "On Strong Scaling Open Source Tools for Mining Atom Probe Tomography Data\n",
      "Microscopy and Microanalysis, 2019, Volume 25, Supplement S2, pp298-299\n",
      "https://doi.org/10.1017/S1431927619002228\n",
      "\n",
      "\n",
      "Article\n",
      "M. K\"uhbach and P. Bajaj and H. Zhao and M. H. C\"{c}elik E. A. J\"agle and B. Gault\n",
      "On strong-scaling and open-source tools for analyzing atom probe tomography data\n",
      "npj Computational Materials, 2021, Volume 7, ppArticle number 21\n",
      "https://doi.org/10.1038/s41524-020-00486-1\n",
      "\n",
      "\n",
      "Article\n",
      "M. K\"uhbach and A. J. London  and J. Wang and D. K. Schreiber and F. Mendez-Martin and I. Ghamarian and H. Bilal and A. V.Ceguerra\n",
      "Community-Driven Methods for Open and Reproducible Software Tools for Analyzing Datasets from Atom Probe Microscopy\n",
      "Microscopy and Microanalysis, 2021, pp1-16\n",
      "https://doi.org/10.1017/S1431927621012241\n",
      "\n",
      "\n",
      "Article\n",
      "M. K\"uhbach and M. Kasemer and A. Breen and B. Gault\n",
      "Open and strong-scaling tools for atom-probe crystallography: high-throughput methods for indexing crystal structure and orientation\n",
      "Journal of Applied Crystallography, 2021, Volume 54, pp1490-1508\n",
      "https://doi.org/10.1107/S1600576721008578\n",
      "\n",
      "\n",
      "Preprint\n",
      "M. K\"uhbach and V. V. Rielli and S. Primig and A. Saxena and B. Jenkins and D. Mayweg and A. Reichmann and S. Kardos and L. Romaner and S. Brockhauser\n",
      "CGM paper\n",
      "arXiv, 2022\n",
      "https://arxiv.org/abs/2205.13510\n",
      "\n",
      "\n",
      "ConfigRanger::\n",
      "Reading configuration from PARAPROBE.Ranger.Config.SimID.1.nxs\n",
      "Reading configuration for task 0\n",
      "Ranging with existent ranging definitions\n",
      "cwd: __/mnt/c/Users/menon/Documents/repos/projects-iuc09/paraprobe-workflow__\n",
      "/mnt/c/Users/menon/Documents/repos/projects-iuc09/paraprobe-workflow/PARAPROBE.Transcoder.Results.SimID.1.nxs\n",
      "/mnt/c/Users/menon/Documents/repos/projects-iuc09/paraprobe-workflow/PARAPROBE.Transcoder.Results.SimID.1.nxs\n",
      "abs_path: __/mnt/c/Users/menon/Documents/repos/projects-iuc09/paraprobe-workflow/PARAPROBE.Transcoder.Results.SimID.1.nxs__\n",
      "InputfileDataset /mnt/c/Users/menon/Documents/repos/projects-iuc09/paraprobe-workflow/PARAPROBE.Transcoder.Results.SimID.1.nxs\n",
      "ReconstructionDatasetName /entry1/atom_probe/reconstruction/reconstructed_positions\n",
      "MassToChargeDatasetName /entry1/atom_probe/mass_to_charge_conversion/mass_to_charge\n",
      "cwd: __/mnt/c/Users/menon/Documents/repos/projects-iuc09/paraprobe-workflow__\n",
      "/mnt/c/Users/menon/Documents/repos/projects-iuc09/paraprobe-workflow/PARAPROBE.Transcoder.Results.SimID.1.nxs\n",
      "/mnt/c/Users/menon/Documents/repos/projects-iuc09/paraprobe-workflow/PARAPROBE.Transcoder.Results.SimID.1.nxs\n",
      "abs_path: __/mnt/c/Users/menon/Documents/repos/projects-iuc09/paraprobe-workflow/PARAPROBE.Transcoder.Results.SimID.1.nxs__\n",
      "InputfileIonTypes /mnt/c/Users/menon/Documents/repos/projects-iuc09/paraprobe-workflow/PARAPROBE.Transcoder.Results.SimID.1.nxs\n",
      "IonTypesGroupName /entry1/atom_probe/ranging/peak_identification\n",
      "Sensible defaults\n",
      "PracticalMassToChargeResolution 0.0005\n",
      "Configuration from file PARAPROBE.Ranger.Config.SimID.1.nxs was accepted\n",
      "This analysis has SimulationID SimID.1\n",
      "Results of this analysis are written to PARAPROBE.Ranger.Results.SimID.1.nxs\n",
      "\n",
      "Rank 0 initialized, we are now MPI_COMM_WORLD parallel using MPI_THREAD_FUNNELED\n",
      "Adding iontype ...\n",
      "id 1\n",
      "charge 2+\n",
      "isotope vector \n",
      "14, 0, 0, 0, 0, 0, 0, 0, 0, 0, 0, 0, 0, 0, 0, 0, 0, 0, 0, 0, 0, 0, 0, 0, 0, 0, 0, 0, 0, 0, 0, 0, \n",
      "mass-to-charge ranges.size() 1\n",
      "\n",
      "Adding iontype ...\n",
      "id 2\n",
      "charge 1+\n",
      "isotope vector \n",
      "14, 0, 0, 0, 0, 0, 0, 0, 0, 0, 0, 0, 0, 0, 0, 0, 0, 0, 0, 0, 0, 0, 0, 0, 0, 0, 0, 0, 0, 0, 0, 0, \n",
      "mass-to-charge ranges.size() 1\n",
      "\n",
      "Adding iontype ...\n",
      "id 3\n",
      "charge 1+\n",
      "isotope vector \n",
      "24, 0, 0, 0, 0, 0, 0, 0, 0, 0, 0, 0, 0, 0, 0, 0, 0, 0, 0, 0, 0, 0, 0, 0, 0, 0, 0, 0, 0, 0, 0, 0, \n",
      "mass-to-charge ranges.size() 1\n",
      "\n",
      "Adding iontype ...\n",
      "id 4\n",
      "charge 1+\n",
      "isotope vector \n",
      "14, 0, 0, 0, 0, 0, 0, 0, 0, 0, 0, 0, 0, 0, 0, 0, 0, 0, 0, 0, 0, 0, 0, 0, 0, 0, 0, 0, 0, 0, 0, 0, \n",
      "mass-to-charge ranges.size() 1\n",
      "\n",
      "Adding iontype ...\n",
      "id 5\n",
      "charge 1+\n",
      "isotope vector \n",
      "14, 0, 0, 0, 0, 0, 0, 0, 0, 0, 0, 0, 0, 0, 0, 0, 0, 0, 0, 0, 0, 0, 0, 0, 0, 0, 0, 0, 0, 0, 0, 0, \n",
      "mass-to-charge ranges.size() 1\n",
      "\n",
      "Adding iontype ...\n",
      "id 6\n",
      "charge 2+\n",
      "isotope vector \n",
      "14, 0, 0, 0, 0, 0, 0, 0, 0, 0, 0, 0, 0, 0, 0, 0, 0, 0, 0, 0, 0, 0, 0, 0, 0, 0, 0, 0, 0, 0, 0, 0, \n",
      "mass-to-charge ranges.size() 1\n",
      "\n",
      "Adding iontype ...\n",
      "id 7\n",
      "charge 2+\n",
      "isotope vector \n",
      "14, 0, 0, 0, 0, 0, 0, 0, 0, 0, 0, 0, 0, 0, 0, 0, 0, 0, 0, 0, 0, 0, 0, 0, 0, 0, 0, 0, 0, 0, 0, 0, \n",
      "mass-to-charge ranges.size() 1\n",
      "\n",
      "Adding iontype ...\n",
      "id 8\n",
      "charge 1+\n",
      "isotope vector \n",
      "24, 0, 0, 0, 0, 0, 0, 0, 0, 0, 0, 0, 0, 0, 0, 0, 0, 0, 0, 0, 0, 0, 0, 0, 0, 0, 0, 0, 0, 0, 0, 0, \n",
      "mass-to-charge ranges.size() 1\n",
      "\n",
      "Adding iontype ...\n",
      "id 9\n",
      "charge 2+\n",
      "isotope vector \n",
      "24, 0, 0, 0, 0, 0, 0, 0, 0, 0, 0, 0, 0, 0, 0, 0, 0, 0, 0, 0, 0, 0, 0, 0, 0, 0, 0, 0, 0, 0, 0, 0, \n",
      "mass-to-charge ranges.size() 1\n",
      "\n",
      "Adding iontype ...\n",
      "id 10\n",
      "charge 2+\n",
      "isotope vector \n",
      "24, 0, 0, 0, 0, 0, 0, 0, 0, 0, 0, 0, 0, 0, 0, 0, 0, 0, 0, 0, 0, 0, 0, 0, 0, 0, 0, 0, 0, 0, 0, 0, \n",
      "mass-to-charge ranges.size() 1\n",
      "\n",
      "Adding iontype ...\n",
      "id 11\n",
      "charge 1+\n",
      "isotope vector \n",
      "29, 0, 0, 0, 0, 0, 0, 0, 0, 0, 0, 0, 0, 0, 0, 0, 0, 0, 0, 0, 0, 0, 0, 0, 0, 0, 0, 0, 0, 0, 0, 0, \n",
      "mass-to-charge ranges.size() 1\n",
      "\n",
      "Adding iontype ...\n",
      "id 12\n",
      "charge 1+\n",
      "isotope vector \n",
      "29, 0, 0, 0, 0, 0, 0, 0, 0, 0, 0, 0, 0, 0, 0, 0, 0, 0, 0, 0, 0, 0, 0, 0, 0, 0, 0, 0, 0, 0, 0, 0, \n",
      "mass-to-charge ranges.size() 1\n",
      "\n",
      "Adding iontype ...\n",
      "id 13\n",
      "charge 1+\n",
      "isotope vector \n",
      "6, 0, 0, 0, 0, 0, 0, 0, 0, 0, 0, 0, 0, 0, 0, 0, 0, 0, 0, 0, 0, 0, 0, 0, 0, 0, 0, 0, 0, 0, 0, 0, \n",
      "mass-to-charge ranges.size() 1\n",
      "\n",
      "Adding iontype ...\n",
      "id 14\n",
      "charge 2+\n",
      "isotope vector \n",
      "6, 0, 0, 0, 0, 0, 0, 0, 0, 0, 0, 0, 0, 0, 0, 0, 0, 0, 0, 0, 0, 0, 0, 0, 0, 0, 0, 0, 0, 0, 0, 0, \n",
      "mass-to-charge ranges.size() 1\n",
      "\n",
      "Adding iontype ...\n",
      "id 15\n",
      "charge 1+\n",
      "isotope vector \n",
      "8, 0, 0, 0, 0, 0, 0, 0, 0, 0, 0, 0, 0, 0, 0, 0, 0, 0, 0, 0, 0, 0, 0, 0, 0, 0, 0, 0, 0, 0, 0, 0, \n",
      "mass-to-charge ranges.size() 1\n",
      "\n",
      "Adding iontype ...\n",
      "id 16\n",
      "charge 1+\n",
      "isotope vector \n",
      "8, 0, 0, 0, 0, 0, 0, 0, 0, 0, 0, 0, 0, 0, 0, 0, 0, 0, 0, 0, 0, 0, 0, 0, 0, 0, 0, 0, 0, 0, 0, 0, \n",
      "mass-to-charge ranges.size() 1\n",
      "\n",
      "Adding iontype ...\n",
      "id 17\n",
      "charge 1+\n",
      "isotope vector \n",
      "24, 8, 0, 0, 0, 0, 0, 0, 0, 0, 0, 0, 0, 0, 0, 0, 0, 0, 0, 0, 0, 0, 0, 0, 0, 0, 0, 0, 0, 0, 0, 0, \n",
      "mass-to-charge ranges.size() 1\n",
      "\n",
      "Adding iontype ...\n",
      "id 18\n",
      "charge 1+\n",
      "isotope vector \n",
      "24, 8, 0, 0, 0, 0, 0, 0, 0, 0, 0, 0, 0, 0, 0, 0, 0, 0, 0, 0, 0, 0, 0, 0, 0, 0, 0, 0, 0, 0, 0, 0, \n",
      "mass-to-charge ranges.size() 1\n",
      "\n",
      "Adding iontype ...\n",
      "id 19\n",
      "charge 1+\n",
      "isotope vector \n",
      "24, 8, 0, 0, 0, 0, 0, 0, 0, 0, 0, 0, 0, 0, 0, 0, 0, 0, 0, 0, 0, 0, 0, 0, 0, 0, 0, 0, 0, 0, 0, 0, \n",
      "mass-to-charge ranges.size() 1\n",
      "\n",
      "Adding iontype ...\n",
      "id 20\n",
      "charge 2+\n",
      "isotope vector \n",
      "24, 8, 0, 0, 0, 0, 0, 0, 0, 0, 0, 0, 0, 0, 0, 0, 0, 0, 0, 0, 0, 0, 0, 0, 0, 0, 0, 0, 0, 0, 0, 0, \n",
      "mass-to-charge ranges.size() 1\n",
      "\n",
      "Adding iontype ...\n",
      "id 21\n",
      "charge 2+\n",
      "isotope vector \n",
      "24, 8, 0, 0, 0, 0, 0, 0, 0, 0, 0, 0, 0, 0, 0, 0, 0, 0, 0, 0, 0, 0, 0, 0, 0, 0, 0, 0, 0, 0, 0, 0, \n",
      "mass-to-charge ranges.size() 1\n",
      "\n",
      "Adding iontype ...\n",
      "id 22\n",
      "charge 2+\n",
      "isotope vector \n",
      "24, 8, 0, 0, 0, 0, 0, 0, 0, 0, 0, 0, 0, 0, 0, 0, 0, 0, 0, 0, 0, 0, 0, 0, 0, 0, 0, 0, 0, 0, 0, 0, \n",
      "mass-to-charge ranges.size() 1\n",
      "\n",
      "Adding iontype ...\n",
      "id 23\n",
      "charge 1+\n",
      "isotope vector \n",
      "24, 8, 8, 0, 0, 0, 0, 0, 0, 0, 0, 0, 0, 0, 0, 0, 0, 0, 0, 0, 0, 0, 0, 0, 0, 0, 0, 0, 0, 0, 0, 0, \n",
      "mass-to-charge ranges.size() 1\n",
      "\n",
      "Adding iontype ...\n",
      "id 24\n",
      "charge 2+\n",
      "isotope vector \n",
      "24, 8, 8, 0, 0, 0, 0, 0, 0, 0, 0, 0, 0, 0, 0, 0, 0, 0, 0, 0, 0, 0, 0, 0, 0, 0, 0, 0, 0, 0, 0, 0, \n",
      "mass-to-charge ranges.size() 1\n",
      "\n",
      "Adding iontype ...\n",
      "id 25\n",
      "charge 2+\n",
      "isotope vector \n",
      "24, 24, 8, 0, 0, 0, 0, 0, 0, 0, 0, 0, 0, 0, 0, 0, 0, 0, 0, 0, 0, 0, 0, 0, 0, 0, 0, 0, 0, 0, 0, 0, \n",
      "mass-to-charge ranges.size() 1\n",
      "\n",
      "subgrpnm /entry1/atom_probe/ranging/peak_identification/ion26 does not exists !\n",
      "Reporting the rangeTable\n",
      "0\n",
      "id 0\n",
      "charge neutral\n",
      "isotope vector \n",
      "0, 0, 0, 0, 0, 0, 0, 0, 0, 0, 0, 0, 0, 0, 0, 0, 0, 0, 0, 0, 0, 0, 0, 0, 0, 0, 0, 0, 0, 0, 0, 0, \n",
      "mass-to-charge ranges.size() 1\n",
      "\n",
      "1\n",
      "id 1\n",
      "charge 2+\n",
      "isotope vector \n",
      "14, 0, 0, 0, 0, 0, 0, 0, 0, 0, 0, 0, 0, 0, 0, 0, 0, 0, 0, 0, 0, 0, 0, 0, 0, 0, 0, 0, 0, 0, 0, 0, \n",
      "mass-to-charge ranges.size() 1\n",
      "\n",
      "2\n",
      "id 2\n",
      "charge 1+\n",
      "isotope vector \n",
      "14, 0, 0, 0, 0, 0, 0, 0, 0, 0, 0, 0, 0, 0, 0, 0, 0, 0, 0, 0, 0, 0, 0, 0, 0, 0, 0, 0, 0, 0, 0, 0, \n",
      "mass-to-charge ranges.size() 1\n",
      "\n",
      "3\n",
      "id 3\n",
      "charge 1+\n",
      "isotope vector \n",
      "24, 0, 0, 0, 0, 0, 0, 0, 0, 0, 0, 0, 0, 0, 0, 0, 0, 0, 0, 0, 0, 0, 0, 0, 0, 0, 0, 0, 0, 0, 0, 0, \n",
      "mass-to-charge ranges.size() 1\n",
      "\n",
      "4\n",
      "id 4\n",
      "charge 1+\n",
      "isotope vector \n",
      "14, 0, 0, 0, 0, 0, 0, 0, 0, 0, 0, 0, 0, 0, 0, 0, 0, 0, 0, 0, 0, 0, 0, 0, 0, 0, 0, 0, 0, 0, 0, 0, \n",
      "mass-to-charge ranges.size() 1\n",
      "\n",
      "5\n",
      "id 5\n",
      "charge 1+\n",
      "isotope vector \n",
      "14, 0, 0, 0, 0, 0, 0, 0, 0, 0, 0, 0, 0, 0, 0, 0, 0, 0, 0, 0, 0, 0, 0, 0, 0, 0, 0, 0, 0, 0, 0, 0, \n",
      "mass-to-charge ranges.size() 1\n",
      "\n",
      "6\n",
      "id 6\n",
      "charge 2+\n",
      "isotope vector \n",
      "14, 0, 0, 0, 0, 0, 0, 0, 0, 0, 0, 0, 0, 0, 0, 0, 0, 0, 0, 0, 0, 0, 0, 0, 0, 0, 0, 0, 0, 0, 0, 0, \n",
      "mass-to-charge ranges.size() 1\n",
      "\n",
      "7\n",
      "id 7\n",
      "charge 2+\n",
      "isotope vector \n",
      "14, 0, 0, 0, 0, 0, 0, 0, 0, 0, 0, 0, 0, 0, 0, 0, 0, 0, 0, 0, 0, 0, 0, 0, 0, 0, 0, 0, 0, 0, 0, 0, \n",
      "mass-to-charge ranges.size() 1\n",
      "\n",
      "8\n",
      "id 8\n",
      "charge 1+\n",
      "isotope vector \n",
      "24, 0, 0, 0, 0, 0, 0, 0, 0, 0, 0, 0, 0, 0, 0, 0, 0, 0, 0, 0, 0, 0, 0, 0, 0, 0, 0, 0, 0, 0, 0, 0, \n",
      "mass-to-charge ranges.size() 1\n",
      "\n",
      "9\n",
      "id 9\n",
      "charge 2+\n",
      "isotope vector \n",
      "24, 0, 0, 0, 0, 0, 0, 0, 0, 0, 0, 0, 0, 0, 0, 0, 0, 0, 0, 0, 0, 0, 0, 0, 0, 0, 0, 0, 0, 0, 0, 0, \n",
      "mass-to-charge ranges.size() 1\n",
      "\n",
      "10\n",
      "id 10\n",
      "charge 2+\n",
      "isotope vector \n",
      "24, 0, 0, 0, 0, 0, 0, 0, 0, 0, 0, 0, 0, 0, 0, 0, 0, 0, 0, 0, 0, 0, 0, 0, 0, 0, 0, 0, 0, 0, 0, 0, \n",
      "mass-to-charge ranges.size() 1\n",
      "\n",
      "11\n",
      "id 11\n",
      "charge 1+\n",
      "isotope vector \n",
      "29, 0, 0, 0, 0, 0, 0, 0, 0, 0, 0, 0, 0, 0, 0, 0, 0, 0, 0, 0, 0, 0, 0, 0, 0, 0, 0, 0, 0, 0, 0, 0, \n",
      "mass-to-charge ranges.size() 1\n",
      "\n",
      "12\n",
      "id 12\n",
      "charge 1+\n",
      "isotope vector \n",
      "29, 0, 0, 0, 0, 0, 0, 0, 0, 0, 0, 0, 0, 0, 0, 0, 0, 0, 0, 0, 0, 0, 0, 0, 0, 0, 0, 0, 0, 0, 0, 0, \n",
      "mass-to-charge ranges.size() 1\n",
      "\n",
      "13\n",
      "id 13\n",
      "charge 1+\n",
      "isotope vector \n",
      "6, 0, 0, 0, 0, 0, 0, 0, 0, 0, 0, 0, 0, 0, 0, 0, 0, 0, 0, 0, 0, 0, 0, 0, 0, 0, 0, 0, 0, 0, 0, 0, \n",
      "mass-to-charge ranges.size() 1\n",
      "\n",
      "14\n",
      "id 14\n",
      "charge 2+\n",
      "isotope vector \n",
      "6, 0, 0, 0, 0, 0, 0, 0, 0, 0, 0, 0, 0, 0, 0, 0, 0, 0, 0, 0, 0, 0, 0, 0, 0, 0, 0, 0, 0, 0, 0, 0, \n",
      "mass-to-charge ranges.size() 1\n",
      "\n",
      "15\n",
      "id 15\n",
      "charge 1+\n",
      "isotope vector \n",
      "8, 0, 0, 0, 0, 0, 0, 0, 0, 0, 0, 0, 0, 0, 0, 0, 0, 0, 0, 0, 0, 0, 0, 0, 0, 0, 0, 0, 0, 0, 0, 0, \n",
      "mass-to-charge ranges.size() 1\n",
      "\n",
      "16\n",
      "id 16\n",
      "charge 1+\n",
      "isotope vector \n",
      "8, 0, 0, 0, 0, 0, 0, 0, 0, 0, 0, 0, 0, 0, 0, 0, 0, 0, 0, 0, 0, 0, 0, 0, 0, 0, 0, 0, 0, 0, 0, 0, \n",
      "mass-to-charge ranges.size() 1\n",
      "\n",
      "17\n",
      "id 17\n",
      "charge 1+\n",
      "isotope vector \n",
      "24, 8, 0, 0, 0, 0, 0, 0, 0, 0, 0, 0, 0, 0, 0, 0, 0, 0, 0, 0, 0, 0, 0, 0, 0, 0, 0, 0, 0, 0, 0, 0, \n",
      "mass-to-charge ranges.size() 1\n",
      "\n",
      "18\n",
      "id 18\n",
      "charge 1+\n",
      "isotope vector \n",
      "24, 8, 0, 0, 0, 0, 0, 0, 0, 0, 0, 0, 0, 0, 0, 0, 0, 0, 0, 0, 0, 0, 0, 0, 0, 0, 0, 0, 0, 0, 0, 0, \n",
      "mass-to-charge ranges.size() 1\n",
      "\n",
      "19\n",
      "id 19\n",
      "charge 1+\n",
      "isotope vector \n",
      "24, 8, 0, 0, 0, 0, 0, 0, 0, 0, 0, 0, 0, 0, 0, 0, 0, 0, 0, 0, 0, 0, 0, 0, 0, 0, 0, 0, 0, 0, 0, 0, \n",
      "mass-to-charge ranges.size() 1\n",
      "\n",
      "20\n",
      "id 20\n",
      "charge 2+\n",
      "isotope vector \n",
      "24, 8, 0, 0, 0, 0, 0, 0, 0, 0, 0, 0, 0, 0, 0, 0, 0, 0, 0, 0, 0, 0, 0, 0, 0, 0, 0, 0, 0, 0, 0, 0, \n",
      "mass-to-charge ranges.size() 1\n",
      "\n",
      "21\n",
      "id 21\n",
      "charge 2+\n",
      "isotope vector \n",
      "24, 8, 0, 0, 0, 0, 0, 0, 0, 0, 0, 0, 0, 0, 0, 0, 0, 0, 0, 0, 0, 0, 0, 0, 0, 0, 0, 0, 0, 0, 0, 0, \n",
      "mass-to-charge ranges.size() 1\n",
      "\n",
      "22\n",
      "id 22\n",
      "charge 2+\n",
      "isotope vector \n",
      "24, 8, 0, 0, 0, 0, 0, 0, 0, 0, 0, 0, 0, 0, 0, 0, 0, 0, 0, 0, 0, 0, 0, 0, 0, 0, 0, 0, 0, 0, 0, 0, \n",
      "mass-to-charge ranges.size() 1\n",
      "\n",
      "23\n",
      "id 23\n",
      "charge 1+\n",
      "isotope vector \n",
      "24, 8, 8, 0, 0, 0, 0, 0, 0, 0, 0, 0, 0, 0, 0, 0, 0, 0, 0, 0, 0, 0, 0, 0, 0, 0, 0, 0, 0, 0, 0, 0, \n",
      "mass-to-charge ranges.size() 1\n",
      "\n",
      "24\n",
      "id 24\n",
      "charge 2+\n",
      "isotope vector \n",
      "24, 8, 8, 0, 0, 0, 0, 0, 0, 0, 0, 0, 0, 0, 0, 0, 0, 0, 0, 0, 0, 0, 0, 0, 0, 0, 0, 0, 0, 0, 0, 0, \n",
      "mass-to-charge ranges.size() 1\n",
      "\n",
      "25\n",
      "id 25\n",
      "charge 2+\n",
      "isotope vector \n",
      "24, 24, 8, 0, 0, 0, 0, 0, 0, 0, 0, 0, 0, 0, 0, 0, 0, 0, 0, 0, 0, 0, 0, 0, 0, 0, 0, 0, 0, 0, 0, 0, \n",
      "mass-to-charge ranges.size() 1\n",
      "\n",
      "Computing the elemental decomposition of the these iontypes\n",
      "molecular ion decomposition for iontype 0\n",
      "0 0 0 0 0 0 0 0 0 0 0 0 0 0 0 0 0 0 0 0 0 0 0 0 0 0 0 0 0 0 0 0 \n",
      "element multiplier with multiplicity > 0\n",
      "nprotons 0\t\t multiplicity 1\n",
      "molecular ion decomposition for iontype 1\n",
      "14 0 0 0 0 0 0 0 0 0 0 0 0 0 0 0 0 0 0 0 0 0 0 0 0 0 0 0 0 0 0 0 \n",
      "element multiplier with multiplicity > 0\n",
      "nprotons 14\t\t multiplicity 1\n",
      "molecular ion decomposition for iontype 2\n",
      "14 0 0 0 0 0 0 0 0 0 0 0 0 0 0 0 0 0 0 0 0 0 0 0 0 0 0 0 0 0 0 0 \n",
      "element multiplier with multiplicity > 0\n",
      "nprotons 14\t\t multiplicity 1\n",
      "molecular ion decomposition for iontype 3\n",
      "24 0 0 0 0 0 0 0 0 0 0 0 0 0 0 0 0 0 0 0 0 0 0 0 0 0 0 0 0 0 0 0 \n",
      "element multiplier with multiplicity > 0\n",
      "nprotons 24\t\t multiplicity 1\n",
      "molecular ion decomposition for iontype 4\n",
      "14 0 0 0 0 0 0 0 0 0 0 0 0 0 0 0 0 0 0 0 0 0 0 0 0 0 0 0 0 0 0 0 \n",
      "element multiplier with multiplicity > 0\n",
      "nprotons 14\t\t multiplicity 1\n",
      "molecular ion decomposition for iontype 5\n",
      "14 0 0 0 0 0 0 0 0 0 0 0 0 0 0 0 0 0 0 0 0 0 0 0 0 0 0 0 0 0 0 0 \n",
      "element multiplier with multiplicity > 0\n",
      "nprotons 14\t\t multiplicity 1\n",
      "molecular ion decomposition for iontype 6\n",
      "14 0 0 0 0 0 0 0 0 0 0 0 0 0 0 0 0 0 0 0 0 0 0 0 0 0 0 0 0 0 0 0 \n",
      "element multiplier with multiplicity > 0\n",
      "nprotons 14\t\t multiplicity 1\n",
      "molecular ion decomposition for iontype 7\n",
      "14 0 0 0 0 0 0 0 0 0 0 0 0 0 0 0 0 0 0 0 0 0 0 0 0 0 0 0 0 0 0 0 \n",
      "element multiplier with multiplicity > 0\n",
      "nprotons 14\t\t multiplicity 1\n",
      "molecular ion decomposition for iontype 8\n",
      "24 0 0 0 0 0 0 0 0 0 0 0 0 0 0 0 0 0 0 0 0 0 0 0 0 0 0 0 0 0 0 0 \n",
      "element multiplier with multiplicity > 0\n",
      "nprotons 24\t\t multiplicity 1\n",
      "molecular ion decomposition for iontype 9\n",
      "24 0 0 0 0 0 0 0 0 0 0 0 0 0 0 0 0 0 0 0 0 0 0 0 0 0 0 0 0 0 0 0 \n",
      "element multiplier with multiplicity > 0\n",
      "nprotons 24\t\t multiplicity 1\n",
      "molecular ion decomposition for iontype 10\n",
      "24 0 0 0 0 0 0 0 0 0 0 0 0 0 0 0 0 0 0 0 0 0 0 0 0 0 0 0 0 0 0 0 \n",
      "element multiplier with multiplicity > 0\n",
      "nprotons 24\t\t multiplicity 1\n",
      "molecular ion decomposition for iontype 11\n",
      "29 0 0 0 0 0 0 0 0 0 0 0 0 0 0 0 0 0 0 0 0 0 0 0 0 0 0 0 0 0 0 0 \n",
      "element multiplier with multiplicity > 0\n",
      "nprotons 29\t\t multiplicity 1\n",
      "molecular ion decomposition for iontype 12\n",
      "29 0 0 0 0 0 0 0 0 0 0 0 0 0 0 0 0 0 0 0 0 0 0 0 0 0 0 0 0 0 0 0 \n",
      "element multiplier with multiplicity > 0\n",
      "nprotons 29\t\t multiplicity 1\n",
      "molecular ion decomposition for iontype 13\n",
      "6 0 0 0 0 0 0 0 0 0 0 0 0 0 0 0 0 0 0 0 0 0 0 0 0 0 0 0 0 0 0 0 \n",
      "element multiplier with multiplicity > 0\n",
      "nprotons 6\t\t multiplicity 1\n",
      "molecular ion decomposition for iontype 14\n",
      "6 0 0 0 0 0 0 0 0 0 0 0 0 0 0 0 0 0 0 0 0 0 0 0 0 0 0 0 0 0 0 0 \n",
      "element multiplier with multiplicity > 0\n",
      "nprotons 6\t\t multiplicity 1\n",
      "molecular ion decomposition for iontype 15\n",
      "8 0 0 0 0 0 0 0 0 0 0 0 0 0 0 0 0 0 0 0 0 0 0 0 0 0 0 0 0 0 0 0 \n",
      "element multiplier with multiplicity > 0\n",
      "nprotons 8\t\t multiplicity 1\n",
      "molecular ion decomposition for iontype 16\n",
      "8 0 0 0 0 0 0 0 0 0 0 0 0 0 0 0 0 0 0 0 0 0 0 0 0 0 0 0 0 0 0 0 \n",
      "element multiplier with multiplicity > 0\n",
      "nprotons 8\t\t multiplicity 1\n",
      "molecular ion decomposition for iontype 17\n",
      "24 8 0 0 0 0 0 0 0 0 0 0 0 0 0 0 0 0 0 0 0 0 0 0 0 0 0 0 0 0 0 0 \n",
      "element multiplier with multiplicity > 0\n",
      "nprotons 8\t\t multiplicity 1\n",
      "nprotons 24\t\t multiplicity 1\n",
      "molecular ion decomposition for iontype 18\n",
      "24 8 0 0 0 0 0 0 0 0 0 0 0 0 0 0 0 0 0 0 0 0 0 0 0 0 0 0 0 0 0 0 \n",
      "element multiplier with multiplicity > 0\n",
      "nprotons 8\t\t multiplicity 1\n",
      "nprotons 24\t\t multiplicity 1\n",
      "molecular ion decomposition for iontype 19\n",
      "24 8 0 0 0 0 0 0 0 0 0 0 0 0 0 0 0 0 0 0 0 0 0 0 0 0 0 0 0 0 0 0 \n",
      "element multiplier with multiplicity > 0\n",
      "nprotons 8\t\t multiplicity 1\n",
      "nprotons 24\t\t multiplicity 1\n",
      "molecular ion decomposition for iontype 20\n",
      "24 8 0 0 0 0 0 0 0 0 0 0 0 0 0 0 0 0 0 0 0 0 0 0 0 0 0 0 0 0 0 0 \n",
      "element multiplier with multiplicity > 0\n",
      "nprotons 8\t\t multiplicity 1\n",
      "nprotons 24\t\t multiplicity 1\n",
      "molecular ion decomposition for iontype 21\n",
      "24 8 0 0 0 0 0 0 0 0 0 0 0 0 0 0 0 0 0 0 0 0 0 0 0 0 0 0 0 0 0 0 \n",
      "element multiplier with multiplicity > 0\n",
      "nprotons 8\t\t multiplicity 1\n",
      "nprotons 24\t\t multiplicity 1\n",
      "molecular ion decomposition for iontype 22\n",
      "24 8 0 0 0 0 0 0 0 0 0 0 0 0 0 0 0 0 0 0 0 0 0 0 0 0 0 0 0 0 0 0 \n",
      "element multiplier with multiplicity > 0\n",
      "nprotons 8\t\t multiplicity 1\n",
      "nprotons 24\t\t multiplicity 1\n",
      "molecular ion decomposition for iontype 23\n",
      "24 8 8 0 0 0 0 0 0 0 0 0 0 0 0 0 0 0 0 0 0 0 0 0 0 0 0 0 0 0 0 0 \n",
      "element multiplier with multiplicity > 0\n",
      "nprotons 8\t\t multiplicity 2\n",
      "nprotons 24\t\t multiplicity 1\n",
      "molecular ion decomposition for iontype 24\n",
      "24 8 8 0 0 0 0 0 0 0 0 0 0 0 0 0 0 0 0 0 0 0 0 0 0 0 0 0 0 0 0 0 \n",
      "element multiplier with multiplicity > 0\n",
      "nprotons 8\t\t multiplicity 2\n",
      "nprotons 24\t\t multiplicity 1\n",
      "molecular ion decomposition for iontype 25\n",
      "24 24 8 0 0 0 0 0 0 0 0 0 0 0 0 0 0 0 0 0 0 0 0 0 0 0 0 0 0 0 0 0 \n",
      "element multiplier with multiplicity > 0\n",
      "nprotons 8\t\t multiplicity 1\n",
      "nprotons 24\t\t multiplicity 2\n",
      "/mnt/c/Users/menon/Documents/repos/projects-iuc09/paraprobe-workflow/PARAPROBE.Transcoder.Results.SimID.1.nxs read /entry1/atom_probe/ranging/peak_identification successfully\n",
      "Rank 0 loaded rng.nuclides.isotopes.size() 26 iontypes\n",
      "Rank MASTER all relevant input was loaded successfully\n",
      "Rank 0 applying existent ranging ...\n",
      "Multi-threaded ranging using 8 OpenMP threads\n",
      "Rank 0 completed local workpackage\n",
      "Rank 0 computing naive composition ...\n",
      "Multi-threaded computing of a naive composition using 8 OpenMP threads\n",
      "Rank 0 completed local workpackage\n",
      "Reporting naive composition\n",
      "0\t\t68201\n",
      "1\t\t684972\n",
      "2\t\t5799\n",
      "3\t\t430\n",
      "4\t\t22528\n",
      "5\t\t8784\n",
      "6\t\t37918\n",
      "7\t\t25075\n",
      "8\t\t148\n",
      "9\t\t459\n",
      "10\t\t170\n",
      "11\t\t231\n",
      "12\t\t452\n",
      "13\t\t427\n",
      "14\t\t279\n",
      "15\t\t854\n",
      "16\t\t501\n",
      "17\t\t872\n",
      "18\t\t231\n",
      "19\t\t185\n",
      "20\t\t77\n",
      "21\t\t176\n",
      "22\t\t140\n",
      "23\t\t383\n",
      "24\t\t259\n",
      "25\t\t85660\n",
      "Ion total computed 945211\n",
      "Ion total expected 945211\n",
      "sizeof(unsigned char) 1\n",
      "Packing boolean states stored in unsigned char into a bitfield\n",
      "8 bits in an unsigned char\n",
      "in.size() 945211\n",
      "byte_length 118152\n",
      "out.size() 118152\n",
      "Rank 0 has completed its workpackage\n",
      "paraprobe-ranger success\n",
      "{1: 'PARAPROBE.Ranger.Results.SimID.1.nxs'}\n"
     ]
    }
   ],
   "source": [
    "# execute paraprobe-ranger C/C++ tool\n",
    "RANGER_RESULTS = {}\n",
    "for jobid in jobids:\n",
    "    CONFIG = RANGER_CONFIG[jobid]\n",
    "    STDOUT, STDERR = get_std(\"ranger\", jobid)\n",
    "    ! export OMP_NUM_THREADS=$MYOMP && mpiexec -n 1 paraprobe_ranger 1 PARAPROBE.Ranger.Config.SimID.1.nxs\n",
    "    RANGER_RESULTS[jobid] = f\"PARAPROBE.Ranger.Results.SimID.{jobid}.nxs\"\n",
    "print(RANGER_RESULTS)"
   ]
  },
  {
   "cell_type": "code",
   "execution_count": 18,
   "id": "adabf28b-ab05-4779-94f0-53c6d95c570b",
   "metadata": {
    "collapsed": true,
    "jupyter": {
     "outputs_hidden": true
    }
   },
   "outputs": [
    {
     "name": "stdout",
     "output_type": "stream",
     "text": [
      "paraprobe-ranger\n",
      "A tool of the paraprobe-toolbox supporting FAIR materials science research\n",
      "Supporting the community with strong-scaling and open tools for robust and automated uncertainty quantification...\n",
      "\n",
      "The compiled code of this tool uses the source code with the following GitSha:\n",
      "v0.4\n",
      "\"v0.5.1\"\n",
      "Preprocessor run\n",
      "Jun 20 2024\n",
      "10:51:13\n",
      "Paraprobe can be cited via the following papers...\n",
      "Collecting 5 publications for the tool to cite:\n",
      "Article\n",
      "M. K\"uhbach and P. Bajaj and A. Breen and E. A. J\"agle and B. Gault\n",
      "On Strong Scaling Open Source Tools for Mining Atom Probe Tomography Data\n",
      "Microscopy and Microanalysis, 2019, Volume 25, Supplement S2, pp298-299\n",
      "https://doi.org/10.1017/S1431927619002228\n",
      "\n",
      "\n",
      "Article\n",
      "M. K\"uhbach and P. Bajaj and H. Zhao and M. H. C\"{c}elik E. A. J\"agle and B. Gault\n",
      "On strong-scaling and open-source tools for analyzing atom probe tomography data\n",
      "npj Computational Materials, 2021, Volume 7, ppArticle number 21\n",
      "https://doi.org/10.1038/s41524-020-00486-1\n",
      "\n",
      "\n",
      "Article\n",
      "M. K\"uhbach and A. J. London  and J. Wang and D. K. Schreiber and F. Mendez-Martin and I. Ghamarian and H. Bilal and A. V.Ceguerra\n",
      "Community-Driven Methods for Open and Reproducible Software Tools for Analyzing Datasets from Atom Probe Microscopy\n",
      "Microscopy and Microanalysis, 2021, pp1-16\n",
      "https://doi.org/10.1017/S1431927621012241\n",
      "\n",
      "\n",
      "Article\n",
      "M. K\"uhbach and M. Kasemer and A. Breen and B. Gault\n",
      "Open and strong-scaling tools for atom-probe crystallography: high-throughput methods for indexing crystal structure and orientation\n",
      "Journal of Applied Crystallography, 2021, Volume 54, pp1490-1508\n",
      "https://doi.org/10.1107/S1600576721008578\n",
      "\n",
      "\n",
      "Preprint\n",
      "M. K\"uhbach and V. V. Rielli and S. Primig and A. Saxena and B. Jenkins and D. Mayweg and A. Reichmann and S. Kardos and L. Romaner and S. Brockhauser\n",
      "CGM paper\n",
      "arXiv, 2022\n",
      "https://arxiv.org/abs/2205.13510\n",
      "\n",
      "\n",
      "ConfigRanger::\n",
      "Reading configuration from PARAPROBE.Ranger.Config.SimID.1.nxs\n",
      "Reading configuration for task 0\n",
      "Ranging with existent ranging definitions\n",
      "cwd: __/mnt/c/Users/menon/Documents/repos/projects-iuc09/paraprobe-workflow__\n",
      "/mnt/c/Users/menon/Documents/repos/projects-iuc09/paraprobe-workflow/PARAPROBE.Transcoder.Results.SimID.1.nxs\n",
      "/mnt/c/Users/menon/Documents/repos/projects-iuc09/paraprobe-workflow/PARAPROBE.Transcoder.Results.SimID.1.nxs\n",
      "abs_path: __/mnt/c/Users/menon/Documents/repos/projects-iuc09/paraprobe-workflow/PARAPROBE.Transcoder.Results.SimID.1.nxs__\n",
      "InputfileDataset /mnt/c/Users/menon/Documents/repos/projects-iuc09/paraprobe-workflow/PARAPROBE.Transcoder.Results.SimID.1.nxs\n",
      "ReconstructionDatasetName /entry1/atom_probe/reconstruction/reconstructed_positions\n",
      "MassToChargeDatasetName /entry1/atom_probe/mass_to_charge_conversion/mass_to_charge\n",
      "cwd: __/mnt/c/Users/menon/Documents/repos/projects-iuc09/paraprobe-workflow__\n",
      "/mnt/c/Users/menon/Documents/repos/projects-iuc09/paraprobe-workflow/PARAPROBE.Transcoder.Results.SimID.1.nxs\n",
      "/mnt/c/Users/menon/Documents/repos/projects-iuc09/paraprobe-workflow/PARAPROBE.Transcoder.Results.SimID.1.nxs\n",
      "abs_path: __/mnt/c/Users/menon/Documents/repos/projects-iuc09/paraprobe-workflow/PARAPROBE.Transcoder.Results.SimID.1.nxs__\n",
      "InputfileIonTypes /mnt/c/Users/menon/Documents/repos/projects-iuc09/paraprobe-workflow/PARAPROBE.Transcoder.Results.SimID.1.nxs\n",
      "IonTypesGroupName /entry1/atom_probe/ranging/peak_identification\n",
      "Sensible defaults\n",
      "PracticalMassToChargeResolution 0.0005\n",
      "Configuration from file PARAPROBE.Ranger.Config.SimID.1.nxs was accepted\n",
      "This analysis has SimulationID SimID.1\n",
      "Results of this analysis are written to PARAPROBE.Ranger.Results.SimID.1.nxs\n",
      "\n",
      "Rank 0 initialized, we are now MPI_COMM_WORLD parallel using MPI_THREAD_FUNNELED\n",
      "Adding iontype ...\n",
      "id 1\n",
      "charge 2+\n",
      "isotope vector \n",
      "14, 0, 0, 0, 0, 0, 0, 0, 0, 0, 0, 0, 0, 0, 0, 0, 0, 0, 0, 0, 0, 0, 0, 0, 0, 0, 0, 0, 0, 0, 0, 0, \n",
      "mass-to-charge ranges.size() 1\n",
      "\n",
      "Adding iontype ...\n",
      "id 2\n",
      "charge 1+\n",
      "isotope vector \n",
      "14, 0, 0, 0, 0, 0, 0, 0, 0, 0, 0, 0, 0, 0, 0, 0, 0, 0, 0, 0, 0, 0, 0, 0, 0, 0, 0, 0, 0, 0, 0, 0, \n",
      "mass-to-charge ranges.size() 1\n",
      "\n",
      "Adding iontype ...\n",
      "id 3\n",
      "charge 1+\n",
      "isotope vector \n",
      "24, 0, 0, 0, 0, 0, 0, 0, 0, 0, 0, 0, 0, 0, 0, 0, 0, 0, 0, 0, 0, 0, 0, 0, 0, 0, 0, 0, 0, 0, 0, 0, \n",
      "mass-to-charge ranges.size() 1\n",
      "\n",
      "Adding iontype ...\n",
      "id 4\n",
      "charge 1+\n",
      "isotope vector \n",
      "14, 0, 0, 0, 0, 0, 0, 0, 0, 0, 0, 0, 0, 0, 0, 0, 0, 0, 0, 0, 0, 0, 0, 0, 0, 0, 0, 0, 0, 0, 0, 0, \n",
      "mass-to-charge ranges.size() 1\n",
      "\n",
      "Adding iontype ...\n",
      "id 5\n",
      "charge 1+\n",
      "isotope vector \n",
      "14, 0, 0, 0, 0, 0, 0, 0, 0, 0, 0, 0, 0, 0, 0, 0, 0, 0, 0, 0, 0, 0, 0, 0, 0, 0, 0, 0, 0, 0, 0, 0, \n",
      "mass-to-charge ranges.size() 1\n",
      "\n",
      "Adding iontype ...\n",
      "id 6\n",
      "charge 2+\n",
      "isotope vector \n",
      "14, 0, 0, 0, 0, 0, 0, 0, 0, 0, 0, 0, 0, 0, 0, 0, 0, 0, 0, 0, 0, 0, 0, 0, 0, 0, 0, 0, 0, 0, 0, 0, \n",
      "mass-to-charge ranges.size() 1\n",
      "\n",
      "Adding iontype ...\n",
      "id 7\n",
      "charge 2+\n",
      "isotope vector \n",
      "14, 0, 0, 0, 0, 0, 0, 0, 0, 0, 0, 0, 0, 0, 0, 0, 0, 0, 0, 0, 0, 0, 0, 0, 0, 0, 0, 0, 0, 0, 0, 0, \n",
      "mass-to-charge ranges.size() 1\n",
      "\n",
      "Adding iontype ...\n",
      "id 8\n",
      "charge 1+\n",
      "isotope vector \n",
      "24, 0, 0, 0, 0, 0, 0, 0, 0, 0, 0, 0, 0, 0, 0, 0, 0, 0, 0, 0, 0, 0, 0, 0, 0, 0, 0, 0, 0, 0, 0, 0, \n",
      "mass-to-charge ranges.size() 1\n",
      "\n",
      "Adding iontype ...\n",
      "id 9\n",
      "charge 2+\n",
      "isotope vector \n",
      "24, 0, 0, 0, 0, 0, 0, 0, 0, 0, 0, 0, 0, 0, 0, 0, 0, 0, 0, 0, 0, 0, 0, 0, 0, 0, 0, 0, 0, 0, 0, 0, \n",
      "mass-to-charge ranges.size() 1\n",
      "\n",
      "Adding iontype ...\n",
      "id 10\n",
      "charge 2+\n",
      "isotope vector \n",
      "24, 0, 0, 0, 0, 0, 0, 0, 0, 0, 0, 0, 0, 0, 0, 0, 0, 0, 0, 0, 0, 0, 0, 0, 0, 0, 0, 0, 0, 0, 0, 0, \n",
      "mass-to-charge ranges.size() 1\n",
      "\n",
      "Adding iontype ...\n",
      "id 11\n",
      "charge 1+\n",
      "isotope vector \n",
      "29, 0, 0, 0, 0, 0, 0, 0, 0, 0, 0, 0, 0, 0, 0, 0, 0, 0, 0, 0, 0, 0, 0, 0, 0, 0, 0, 0, 0, 0, 0, 0, \n",
      "mass-to-charge ranges.size() 1\n",
      "\n",
      "Adding iontype ...\n",
      "id 12\n",
      "charge 1+\n",
      "isotope vector \n",
      "29, 0, 0, 0, 0, 0, 0, 0, 0, 0, 0, 0, 0, 0, 0, 0, 0, 0, 0, 0, 0, 0, 0, 0, 0, 0, 0, 0, 0, 0, 0, 0, \n",
      "mass-to-charge ranges.size() 1\n",
      "\n",
      "Adding iontype ...\n",
      "id 13\n",
      "charge 1+\n",
      "isotope vector \n",
      "6, 0, 0, 0, 0, 0, 0, 0, 0, 0, 0, 0, 0, 0, 0, 0, 0, 0, 0, 0, 0, 0, 0, 0, 0, 0, 0, 0, 0, 0, 0, 0, \n",
      "mass-to-charge ranges.size() 1\n",
      "\n",
      "Adding iontype ...\n",
      "id 14\n",
      "charge 2+\n",
      "isotope vector \n",
      "6, 0, 0, 0, 0, 0, 0, 0, 0, 0, 0, 0, 0, 0, 0, 0, 0, 0, 0, 0, 0, 0, 0, 0, 0, 0, 0, 0, 0, 0, 0, 0, \n",
      "mass-to-charge ranges.size() 1\n",
      "\n",
      "Adding iontype ...\n",
      "id 15\n",
      "charge 1+\n",
      "isotope vector \n",
      "8, 0, 0, 0, 0, 0, 0, 0, 0, 0, 0, 0, 0, 0, 0, 0, 0, 0, 0, 0, 0, 0, 0, 0, 0, 0, 0, 0, 0, 0, 0, 0, \n",
      "mass-to-charge ranges.size() 1\n",
      "\n",
      "Adding iontype ...\n",
      "id 16\n",
      "charge 1+\n",
      "isotope vector \n",
      "8, 0, 0, 0, 0, 0, 0, 0, 0, 0, 0, 0, 0, 0, 0, 0, 0, 0, 0, 0, 0, 0, 0, 0, 0, 0, 0, 0, 0, 0, 0, 0, \n",
      "mass-to-charge ranges.size() 1\n",
      "\n",
      "Adding iontype ...\n",
      "id 17\n",
      "charge 1+\n",
      "isotope vector \n",
      "24, 8, 0, 0, 0, 0, 0, 0, 0, 0, 0, 0, 0, 0, 0, 0, 0, 0, 0, 0, 0, 0, 0, 0, 0, 0, 0, 0, 0, 0, 0, 0, \n",
      "mass-to-charge ranges.size() 1\n",
      "\n",
      "Adding iontype ...\n",
      "id 18\n",
      "charge 1+\n",
      "isotope vector \n",
      "24, 8, 0, 0, 0, 0, 0, 0, 0, 0, 0, 0, 0, 0, 0, 0, 0, 0, 0, 0, 0, 0, 0, 0, 0, 0, 0, 0, 0, 0, 0, 0, \n",
      "mass-to-charge ranges.size() 1\n",
      "\n",
      "Adding iontype ...\n",
      "id 19\n",
      "charge 1+\n",
      "isotope vector \n",
      "24, 8, 0, 0, 0, 0, 0, 0, 0, 0, 0, 0, 0, 0, 0, 0, 0, 0, 0, 0, 0, 0, 0, 0, 0, 0, 0, 0, 0, 0, 0, 0, \n",
      "mass-to-charge ranges.size() 1\n",
      "\n",
      "Adding iontype ...\n",
      "id 20\n",
      "charge 2+\n",
      "isotope vector \n",
      "24, 8, 0, 0, 0, 0, 0, 0, 0, 0, 0, 0, 0, 0, 0, 0, 0, 0, 0, 0, 0, 0, 0, 0, 0, 0, 0, 0, 0, 0, 0, 0, \n",
      "mass-to-charge ranges.size() 1\n",
      "\n",
      "Adding iontype ...\n",
      "id 21\n",
      "charge 2+\n",
      "isotope vector \n",
      "24, 8, 0, 0, 0, 0, 0, 0, 0, 0, 0, 0, 0, 0, 0, 0, 0, 0, 0, 0, 0, 0, 0, 0, 0, 0, 0, 0, 0, 0, 0, 0, \n",
      "mass-to-charge ranges.size() 1\n",
      "\n",
      "Adding iontype ...\n",
      "id 22\n",
      "charge 2+\n",
      "isotope vector \n",
      "24, 8, 0, 0, 0, 0, 0, 0, 0, 0, 0, 0, 0, 0, 0, 0, 0, 0, 0, 0, 0, 0, 0, 0, 0, 0, 0, 0, 0, 0, 0, 0, \n",
      "mass-to-charge ranges.size() 1\n",
      "\n",
      "Adding iontype ...\n",
      "id 23\n",
      "charge 1+\n",
      "isotope vector \n",
      "24, 8, 8, 0, 0, 0, 0, 0, 0, 0, 0, 0, 0, 0, 0, 0, 0, 0, 0, 0, 0, 0, 0, 0, 0, 0, 0, 0, 0, 0, 0, 0, \n",
      "mass-to-charge ranges.size() 1\n",
      "\n",
      "Adding iontype ...\n",
      "id 24\n",
      "charge 2+\n",
      "isotope vector \n",
      "24, 8, 8, 0, 0, 0, 0, 0, 0, 0, 0, 0, 0, 0, 0, 0, 0, 0, 0, 0, 0, 0, 0, 0, 0, 0, 0, 0, 0, 0, 0, 0, \n",
      "mass-to-charge ranges.size() 1\n",
      "\n",
      "Adding iontype ...\n",
      "id 25\n",
      "charge 2+\n",
      "isotope vector \n",
      "24, 24, 8, 0, 0, 0, 0, 0, 0, 0, 0, 0, 0, 0, 0, 0, 0, 0, 0, 0, 0, 0, 0, 0, 0, 0, 0, 0, 0, 0, 0, 0, \n",
      "mass-to-charge ranges.size() 1\n",
      "\n",
      "subgrpnm /entry1/atom_probe/ranging/peak_identification/ion26 does not exists !\n",
      "Reporting the rangeTable\n",
      "0\n",
      "id 0\n",
      "charge neutral\n",
      "isotope vector \n",
      "0, 0, 0, 0, 0, 0, 0, 0, 0, 0, 0, 0, 0, 0, 0, 0, 0, 0, 0, 0, 0, 0, 0, 0, 0, 0, 0, 0, 0, 0, 0, 0, \n",
      "mass-to-charge ranges.size() 1\n",
      "\n",
      "1\n",
      "id 1\n",
      "charge 2+\n",
      "isotope vector \n",
      "14, 0, 0, 0, 0, 0, 0, 0, 0, 0, 0, 0, 0, 0, 0, 0, 0, 0, 0, 0, 0, 0, 0, 0, 0, 0, 0, 0, 0, 0, 0, 0, \n",
      "mass-to-charge ranges.size() 1\n",
      "\n",
      "2\n",
      "id 2\n",
      "charge 1+\n",
      "isotope vector \n",
      "14, 0, 0, 0, 0, 0, 0, 0, 0, 0, 0, 0, 0, 0, 0, 0, 0, 0, 0, 0, 0, 0, 0, 0, 0, 0, 0, 0, 0, 0, 0, 0, \n",
      "mass-to-charge ranges.size() 1\n",
      "\n",
      "3\n",
      "id 3\n",
      "charge 1+\n",
      "isotope vector \n",
      "24, 0, 0, 0, 0, 0, 0, 0, 0, 0, 0, 0, 0, 0, 0, 0, 0, 0, 0, 0, 0, 0, 0, 0, 0, 0, 0, 0, 0, 0, 0, 0, \n",
      "mass-to-charge ranges.size() 1\n",
      "\n",
      "4\n",
      "id 4\n",
      "charge 1+\n",
      "isotope vector \n",
      "14, 0, 0, 0, 0, 0, 0, 0, 0, 0, 0, 0, 0, 0, 0, 0, 0, 0, 0, 0, 0, 0, 0, 0, 0, 0, 0, 0, 0, 0, 0, 0, \n",
      "mass-to-charge ranges.size() 1\n",
      "\n",
      "5\n",
      "id 5\n",
      "charge 1+\n",
      "isotope vector \n",
      "14, 0, 0, 0, 0, 0, 0, 0, 0, 0, 0, 0, 0, 0, 0, 0, 0, 0, 0, 0, 0, 0, 0, 0, 0, 0, 0, 0, 0, 0, 0, 0, \n",
      "mass-to-charge ranges.size() 1\n",
      "\n",
      "6\n",
      "id 6\n",
      "charge 2+\n",
      "isotope vector \n",
      "14, 0, 0, 0, 0, 0, 0, 0, 0, 0, 0, 0, 0, 0, 0, 0, 0, 0, 0, 0, 0, 0, 0, 0, 0, 0, 0, 0, 0, 0, 0, 0, \n",
      "mass-to-charge ranges.size() 1\n",
      "\n",
      "7\n",
      "id 7\n",
      "charge 2+\n",
      "isotope vector \n",
      "14, 0, 0, 0, 0, 0, 0, 0, 0, 0, 0, 0, 0, 0, 0, 0, 0, 0, 0, 0, 0, 0, 0, 0, 0, 0, 0, 0, 0, 0, 0, 0, \n",
      "mass-to-charge ranges.size() 1\n",
      "\n",
      "8\n",
      "id 8\n",
      "charge 1+\n",
      "isotope vector \n",
      "24, 0, 0, 0, 0, 0, 0, 0, 0, 0, 0, 0, 0, 0, 0, 0, 0, 0, 0, 0, 0, 0, 0, 0, 0, 0, 0, 0, 0, 0, 0, 0, \n",
      "mass-to-charge ranges.size() 1\n",
      "\n",
      "9\n",
      "id 9\n",
      "charge 2+\n",
      "isotope vector \n",
      "24, 0, 0, 0, 0, 0, 0, 0, 0, 0, 0, 0, 0, 0, 0, 0, 0, 0, 0, 0, 0, 0, 0, 0, 0, 0, 0, 0, 0, 0, 0, 0, \n",
      "mass-to-charge ranges.size() 1\n",
      "\n",
      "10\n",
      "id 10\n",
      "charge 2+\n",
      "isotope vector \n",
      "24, 0, 0, 0, 0, 0, 0, 0, 0, 0, 0, 0, 0, 0, 0, 0, 0, 0, 0, 0, 0, 0, 0, 0, 0, 0, 0, 0, 0, 0, 0, 0, \n",
      "mass-to-charge ranges.size() 1\n",
      "\n",
      "11\n",
      "id 11\n",
      "charge 1+\n",
      "isotope vector \n",
      "29, 0, 0, 0, 0, 0, 0, 0, 0, 0, 0, 0, 0, 0, 0, 0, 0, 0, 0, 0, 0, 0, 0, 0, 0, 0, 0, 0, 0, 0, 0, 0, \n",
      "mass-to-charge ranges.size() 1\n",
      "\n",
      "12\n",
      "id 12\n",
      "charge 1+\n",
      "isotope vector \n",
      "29, 0, 0, 0, 0, 0, 0, 0, 0, 0, 0, 0, 0, 0, 0, 0, 0, 0, 0, 0, 0, 0, 0, 0, 0, 0, 0, 0, 0, 0, 0, 0, \n",
      "mass-to-charge ranges.size() 1\n",
      "\n",
      "13\n",
      "id 13\n",
      "charge 1+\n",
      "isotope vector \n",
      "6, 0, 0, 0, 0, 0, 0, 0, 0, 0, 0, 0, 0, 0, 0, 0, 0, 0, 0, 0, 0, 0, 0, 0, 0, 0, 0, 0, 0, 0, 0, 0, \n",
      "mass-to-charge ranges.size() 1\n",
      "\n",
      "14\n",
      "id 14\n",
      "charge 2+\n",
      "isotope vector \n",
      "6, 0, 0, 0, 0, 0, 0, 0, 0, 0, 0, 0, 0, 0, 0, 0, 0, 0, 0, 0, 0, 0, 0, 0, 0, 0, 0, 0, 0, 0, 0, 0, \n",
      "mass-to-charge ranges.size() 1\n",
      "\n",
      "15\n",
      "id 15\n",
      "charge 1+\n",
      "isotope vector \n",
      "8, 0, 0, 0, 0, 0, 0, 0, 0, 0, 0, 0, 0, 0, 0, 0, 0, 0, 0, 0, 0, 0, 0, 0, 0, 0, 0, 0, 0, 0, 0, 0, \n",
      "mass-to-charge ranges.size() 1\n",
      "\n",
      "16\n",
      "id 16\n",
      "charge 1+\n",
      "isotope vector \n",
      "8, 0, 0, 0, 0, 0, 0, 0, 0, 0, 0, 0, 0, 0, 0, 0, 0, 0, 0, 0, 0, 0, 0, 0, 0, 0, 0, 0, 0, 0, 0, 0, \n",
      "mass-to-charge ranges.size() 1\n",
      "\n",
      "17\n",
      "id 17\n",
      "charge 1+\n",
      "isotope vector \n",
      "24, 8, 0, 0, 0, 0, 0, 0, 0, 0, 0, 0, 0, 0, 0, 0, 0, 0, 0, 0, 0, 0, 0, 0, 0, 0, 0, 0, 0, 0, 0, 0, \n",
      "mass-to-charge ranges.size() 1\n",
      "\n",
      "18\n",
      "id 18\n",
      "charge 1+\n",
      "isotope vector \n",
      "24, 8, 0, 0, 0, 0, 0, 0, 0, 0, 0, 0, 0, 0, 0, 0, 0, 0, 0, 0, 0, 0, 0, 0, 0, 0, 0, 0, 0, 0, 0, 0, \n",
      "mass-to-charge ranges.size() 1\n",
      "\n",
      "19\n",
      "id 19\n",
      "charge 1+\n",
      "isotope vector \n",
      "24, 8, 0, 0, 0, 0, 0, 0, 0, 0, 0, 0, 0, 0, 0, 0, 0, 0, 0, 0, 0, 0, 0, 0, 0, 0, 0, 0, 0, 0, 0, 0, \n",
      "mass-to-charge ranges.size() 1\n",
      "\n",
      "20\n",
      "id 20\n",
      "charge 2+\n",
      "isotope vector \n",
      "24, 8, 0, 0, 0, 0, 0, 0, 0, 0, 0, 0, 0, 0, 0, 0, 0, 0, 0, 0, 0, 0, 0, 0, 0, 0, 0, 0, 0, 0, 0, 0, \n",
      "mass-to-charge ranges.size() 1\n",
      "\n",
      "21\n",
      "id 21\n",
      "charge 2+\n",
      "isotope vector \n",
      "24, 8, 0, 0, 0, 0, 0, 0, 0, 0, 0, 0, 0, 0, 0, 0, 0, 0, 0, 0, 0, 0, 0, 0, 0, 0, 0, 0, 0, 0, 0, 0, \n",
      "mass-to-charge ranges.size() 1\n",
      "\n",
      "22\n",
      "id 22\n",
      "charge 2+\n",
      "isotope vector \n",
      "24, 8, 0, 0, 0, 0, 0, 0, 0, 0, 0, 0, 0, 0, 0, 0, 0, 0, 0, 0, 0, 0, 0, 0, 0, 0, 0, 0, 0, 0, 0, 0, \n",
      "mass-to-charge ranges.size() 1\n",
      "\n",
      "23\n",
      "id 23\n",
      "charge 1+\n",
      "isotope vector \n",
      "24, 8, 8, 0, 0, 0, 0, 0, 0, 0, 0, 0, 0, 0, 0, 0, 0, 0, 0, 0, 0, 0, 0, 0, 0, 0, 0, 0, 0, 0, 0, 0, \n",
      "mass-to-charge ranges.size() 1\n",
      "\n",
      "24\n",
      "id 24\n",
      "charge 2+\n",
      "isotope vector \n",
      "24, 8, 8, 0, 0, 0, 0, 0, 0, 0, 0, 0, 0, 0, 0, 0, 0, 0, 0, 0, 0, 0, 0, 0, 0, 0, 0, 0, 0, 0, 0, 0, \n",
      "mass-to-charge ranges.size() 1\n",
      "\n",
      "25\n",
      "id 25\n",
      "charge 2+\n",
      "isotope vector \n",
      "24, 24, 8, 0, 0, 0, 0, 0, 0, 0, 0, 0, 0, 0, 0, 0, 0, 0, 0, 0, 0, 0, 0, 0, 0, 0, 0, 0, 0, 0, 0, 0, \n",
      "mass-to-charge ranges.size() 1\n",
      "\n",
      "Computing the elemental decomposition of the these iontypes\n",
      "molecular ion decomposition for iontype 0\n",
      "0 0 0 0 0 0 0 0 0 0 0 0 0 0 0 0 0 0 0 0 0 0 0 0 0 0 0 0 0 0 0 0 \n",
      "element multiplier with multiplicity > 0\n",
      "nprotons 0\t\t multiplicity 1\n",
      "molecular ion decomposition for iontype 1\n",
      "14 0 0 0 0 0 0 0 0 0 0 0 0 0 0 0 0 0 0 0 0 0 0 0 0 0 0 0 0 0 0 0 \n",
      "element multiplier with multiplicity > 0\n",
      "nprotons 14\t\t multiplicity 1\n",
      "molecular ion decomposition for iontype 2\n",
      "14 0 0 0 0 0 0 0 0 0 0 0 0 0 0 0 0 0 0 0 0 0 0 0 0 0 0 0 0 0 0 0 \n",
      "element multiplier with multiplicity > 0\n",
      "nprotons 14\t\t multiplicity 1\n",
      "molecular ion decomposition for iontype 3\n",
      "24 0 0 0 0 0 0 0 0 0 0 0 0 0 0 0 0 0 0 0 0 0 0 0 0 0 0 0 0 0 0 0 \n",
      "element multiplier with multiplicity > 0\n",
      "nprotons 24\t\t multiplicity 1\n",
      "molecular ion decomposition for iontype 4\n",
      "14 0 0 0 0 0 0 0 0 0 0 0 0 0 0 0 0 0 0 0 0 0 0 0 0 0 0 0 0 0 0 0 \n",
      "element multiplier with multiplicity > 0\n",
      "nprotons 14\t\t multiplicity 1\n",
      "molecular ion decomposition for iontype 5\n",
      "14 0 0 0 0 0 0 0 0 0 0 0 0 0 0 0 0 0 0 0 0 0 0 0 0 0 0 0 0 0 0 0 \n",
      "element multiplier with multiplicity > 0\n",
      "nprotons 14\t\t multiplicity 1\n",
      "molecular ion decomposition for iontype 6\n",
      "14 0 0 0 0 0 0 0 0 0 0 0 0 0 0 0 0 0 0 0 0 0 0 0 0 0 0 0 0 0 0 0 \n",
      "element multiplier with multiplicity > 0\n",
      "nprotons 14\t\t multiplicity 1\n",
      "molecular ion decomposition for iontype 7\n",
      "14 0 0 0 0 0 0 0 0 0 0 0 0 0 0 0 0 0 0 0 0 0 0 0 0 0 0 0 0 0 0 0 \n",
      "element multiplier with multiplicity > 0\n",
      "nprotons 14\t\t multiplicity 1\n",
      "molecular ion decomposition for iontype 8\n",
      "24 0 0 0 0 0 0 0 0 0 0 0 0 0 0 0 0 0 0 0 0 0 0 0 0 0 0 0 0 0 0 0 \n",
      "element multiplier with multiplicity > 0\n",
      "nprotons 24\t\t multiplicity 1\n",
      "molecular ion decomposition for iontype 9\n",
      "24 0 0 0 0 0 0 0 0 0 0 0 0 0 0 0 0 0 0 0 0 0 0 0 0 0 0 0 0 0 0 0 \n",
      "element multiplier with multiplicity > 0\n",
      "nprotons 24\t\t multiplicity 1\n",
      "molecular ion decomposition for iontype 10\n",
      "24 0 0 0 0 0 0 0 0 0 0 0 0 0 0 0 0 0 0 0 0 0 0 0 0 0 0 0 0 0 0 0 \n",
      "element multiplier with multiplicity > 0\n",
      "nprotons 24\t\t multiplicity 1\n",
      "molecular ion decomposition for iontype 11\n",
      "29 0 0 0 0 0 0 0 0 0 0 0 0 0 0 0 0 0 0 0 0 0 0 0 0 0 0 0 0 0 0 0 \n",
      "element multiplier with multiplicity > 0\n",
      "nprotons 29\t\t multiplicity 1\n",
      "molecular ion decomposition for iontype 12\n",
      "29 0 0 0 0 0 0 0 0 0 0 0 0 0 0 0 0 0 0 0 0 0 0 0 0 0 0 0 0 0 0 0 \n",
      "element multiplier with multiplicity > 0\n",
      "nprotons 29\t\t multiplicity 1\n",
      "molecular ion decomposition for iontype 13\n",
      "6 0 0 0 0 0 0 0 0 0 0 0 0 0 0 0 0 0 0 0 0 0 0 0 0 0 0 0 0 0 0 0 \n",
      "element multiplier with multiplicity > 0\n",
      "nprotons 6\t\t multiplicity 1\n",
      "molecular ion decomposition for iontype 14\n",
      "6 0 0 0 0 0 0 0 0 0 0 0 0 0 0 0 0 0 0 0 0 0 0 0 0 0 0 0 0 0 0 0 \n",
      "element multiplier with multiplicity > 0\n",
      "nprotons 6\t\t multiplicity 1\n",
      "molecular ion decomposition for iontype 15\n",
      "8 0 0 0 0 0 0 0 0 0 0 0 0 0 0 0 0 0 0 0 0 0 0 0 0 0 0 0 0 0 0 0 \n",
      "element multiplier with multiplicity > 0\n",
      "nprotons 8\t\t multiplicity 1\n",
      "molecular ion decomposition for iontype 16\n",
      "8 0 0 0 0 0 0 0 0 0 0 0 0 0 0 0 0 0 0 0 0 0 0 0 0 0 0 0 0 0 0 0 \n",
      "element multiplier with multiplicity > 0\n",
      "nprotons 8\t\t multiplicity 1\n",
      "molecular ion decomposition for iontype 17\n",
      "24 8 0 0 0 0 0 0 0 0 0 0 0 0 0 0 0 0 0 0 0 0 0 0 0 0 0 0 0 0 0 0 \n",
      "element multiplier with multiplicity > 0\n",
      "nprotons 8\t\t multiplicity 1\n",
      "nprotons 24\t\t multiplicity 1\n",
      "molecular ion decomposition for iontype 18\n",
      "24 8 0 0 0 0 0 0 0 0 0 0 0 0 0 0 0 0 0 0 0 0 0 0 0 0 0 0 0 0 0 0 \n",
      "element multiplier with multiplicity > 0\n",
      "nprotons 8\t\t multiplicity 1\n",
      "nprotons 24\t\t multiplicity 1\n",
      "molecular ion decomposition for iontype 19\n",
      "24 8 0 0 0 0 0 0 0 0 0 0 0 0 0 0 0 0 0 0 0 0 0 0 0 0 0 0 0 0 0 0 \n",
      "element multiplier with multiplicity > 0\n",
      "nprotons 8\t\t multiplicity 1\n",
      "nprotons 24\t\t multiplicity 1\n",
      "molecular ion decomposition for iontype 20\n",
      "24 8 0 0 0 0 0 0 0 0 0 0 0 0 0 0 0 0 0 0 0 0 0 0 0 0 0 0 0 0 0 0 \n",
      "element multiplier with multiplicity > 0\n",
      "nprotons 8\t\t multiplicity 1\n",
      "nprotons 24\t\t multiplicity 1\n",
      "molecular ion decomposition for iontype 21\n",
      "24 8 0 0 0 0 0 0 0 0 0 0 0 0 0 0 0 0 0 0 0 0 0 0 0 0 0 0 0 0 0 0 \n",
      "element multiplier with multiplicity > 0\n",
      "nprotons 8\t\t multiplicity 1\n",
      "nprotons 24\t\t multiplicity 1\n",
      "molecular ion decomposition for iontype 22\n",
      "24 8 0 0 0 0 0 0 0 0 0 0 0 0 0 0 0 0 0 0 0 0 0 0 0 0 0 0 0 0 0 0 \n",
      "element multiplier with multiplicity > 0\n",
      "nprotons 8\t\t multiplicity 1\n",
      "nprotons 24\t\t multiplicity 1\n",
      "molecular ion decomposition for iontype 23\n",
      "24 8 8 0 0 0 0 0 0 0 0 0 0 0 0 0 0 0 0 0 0 0 0 0 0 0 0 0 0 0 0 0 \n",
      "element multiplier with multiplicity > 0\n",
      "nprotons 8\t\t multiplicity 2\n",
      "nprotons 24\t\t multiplicity 1\n",
      "molecular ion decomposition for iontype 24\n",
      "24 8 8 0 0 0 0 0 0 0 0 0 0 0 0 0 0 0 0 0 0 0 0 0 0 0 0 0 0 0 0 0 \n",
      "element multiplier with multiplicity > 0\n",
      "nprotons 8\t\t multiplicity 2\n",
      "nprotons 24\t\t multiplicity 1\n",
      "molecular ion decomposition for iontype 25\n",
      "24 24 8 0 0 0 0 0 0 0 0 0 0 0 0 0 0 0 0 0 0 0 0 0 0 0 0 0 0 0 0 0 \n",
      "element multiplier with multiplicity > 0\n",
      "nprotons 8\t\t multiplicity 1\n",
      "nprotons 24\t\t multiplicity 2\n",
      "/mnt/c/Users/menon/Documents/repos/projects-iuc09/paraprobe-workflow/PARAPROBE.Transcoder.Results.SimID.1.nxs read /entry1/atom_probe/ranging/peak_identification successfully\n",
      "Rank 0 loaded rng.nuclides.isotopes.size() 26 iontypes\n",
      "Rank MASTER all relevant input was loaded successfully\n",
      "Rank 0 applying existent ranging ...\n",
      "Multi-threaded ranging using 8 OpenMP threads\n",
      "Rank 0 completed local workpackage\n",
      "Rank 0 computing naive composition ...\n",
      "Multi-threaded computing of a naive composition using 8 OpenMP threads\n",
      "Rank 0 completed local workpackage\n",
      "Reporting naive composition\n",
      "0\t\t68201\n",
      "1\t\t684972\n",
      "2\t\t5799\n",
      "3\t\t430\n",
      "4\t\t22528\n",
      "5\t\t8784\n",
      "6\t\t37918\n",
      "7\t\t25075\n",
      "8\t\t148\n",
      "9\t\t459\n",
      "10\t\t170\n",
      "11\t\t231\n",
      "12\t\t452\n",
      "13\t\t427\n",
      "14\t\t279\n",
      "15\t\t854\n",
      "16\t\t501\n",
      "17\t\t872\n",
      "18\t\t231\n",
      "19\t\t185\n",
      "20\t\t77\n",
      "21\t\t176\n",
      "22\t\t140\n",
      "23\t\t383\n",
      "24\t\t259\n",
      "25\t\t85660\n",
      "Ion total computed 945211\n",
      "Ion total expected 945211\n",
      "sizeof(unsigned char) 1\n",
      "Packing boolean states stored in unsigned char into a bitfield\n",
      "8 bits in an unsigned char\n",
      "in.size() 945211\n",
      "byte_length 118152\n",
      "out.size() 118152\n",
      "Rank 0 has completed its workpackage\n",
      "paraprobe-ranger success\n"
     ]
    }
   ],
   "source": [
    "! paraprobe_ranger 1 PARAPROBE.Ranger.Config.SimID.1.nxs"
   ]
  },
  {
   "cell_type": "code",
   "execution_count": 13,
   "id": "2d95f295",
   "metadata": {
    "hidden": true,
    "tags": []
   },
   "outputs": [
    {
     "ename": "FileNotFoundError",
     "evalue": "[Errno 2] No such file or directory: 'PARAPROBE.Ranger.Results.SimID.1.nxs'",
     "output_type": "error",
     "traceback": [
      "\u001b[0;31m---------------------------------------------------------------------------\u001b[0m",
      "\u001b[0;31mFileNotFoundError\u001b[0m                         Traceback (most recent call last)",
      "Cell \u001b[0;32mIn[13], line 2\u001b[0m\n\u001b[1;32m      1\u001b[0m \u001b[38;5;66;03m# inspect paraprobe-ranger results\u001b[39;00m\n\u001b[0;32m----> 2\u001b[0m \u001b[43mget_file_size\u001b[49m\u001b[43m(\u001b[49m\u001b[43mRANGER_RESULTS\u001b[49m\u001b[43m[\u001b[49m\u001b[43mjobid\u001b[49m\u001b[43m]\u001b[49m\u001b[43m)\u001b[49m\n\u001b[1;32m      3\u001b[0m \u001b[38;5;66;03m# H5Web(RANGER_RESULTS[jobid])\u001b[39;00m\n",
      "File \u001b[0;32m~/miniconda3/envs/iuc09/lib/python3.12/site-packages/paraprobe_utils/numerics.py:44\u001b[0m, in \u001b[0;36mget_file_size\u001b[0;34m(file_name)\u001b[0m\n\u001b[1;32m     43\u001b[0m \u001b[38;5;28;01mdef\u001b[39;00m \u001b[38;5;21mget_file_size\u001b[39m(file_name):\n\u001b[0;32m---> 44\u001b[0m     \u001b[38;5;28mprint\u001b[39m(\u001b[38;5;124mf\u001b[39m\u001b[38;5;124m\"\u001b[39m\u001b[38;5;132;01m{\u001b[39;00mnp\u001b[38;5;241m.\u001b[39maround(\u001b[43mos\u001b[49m\u001b[38;5;241;43m.\u001b[39;49m\u001b[43mpath\u001b[49m\u001b[38;5;241;43m.\u001b[39;49m\u001b[43mgetsize\u001b[49m\u001b[43m(\u001b[49m\u001b[43mfile_name\u001b[49m\u001b[43m)\u001b[49m\u001b[38;5;241m/\u001b[39m\u001b[38;5;241m1024\u001b[39m\u001b[38;5;241m/\u001b[39m\u001b[38;5;241m1024\u001b[39m,\u001b[38;5;250m \u001b[39mdecimals\u001b[38;5;241m=\u001b[39m\u001b[38;5;241m3\u001b[39m)\u001b[38;5;132;01m}\u001b[39;00m\u001b[38;5;124m MiB\u001b[39m\u001b[38;5;124m\"\u001b[39m)\n",
      "File \u001b[0;32m<frozen genericpath>:62\u001b[0m, in \u001b[0;36mgetsize\u001b[0;34m(filename)\u001b[0m\n",
      "\u001b[0;31mFileNotFoundError\u001b[0m: [Errno 2] No such file or directory: 'PARAPROBE.Ranger.Results.SimID.1.nxs'"
     ]
    }
   ],
   "source": [
    "# inspect paraprobe-ranger results\n",
    "get_file_size(RANGER_RESULTS[jobid])\n",
    "# H5Web(RANGER_RESULTS[jobid])"
   ]
  },
  {
   "cell_type": "code",
   "execution_count": null,
   "id": "7e9dd6c8",
   "metadata": {
    "tags": []
   },
   "outputs": [],
   "source": [
    "# perform additional customized data analyses here if desired, either through writing analysis code directly in the notebook"
   ]
  },
  {
   "cell_type": "markdown",
   "id": "1cbe9dfc",
   "metadata": {
    "jp-MarkdownHeadingCollapsed": true,
    "tags": []
   },
   "source": [
    "See how results can be post-processed specific for each tool using the convenience reporting<br>\n",
    "and visualization Python functions offered through paraprobe-reporter."
   ]
  },
  {
   "cell_type": "code",
   "execution_count": null,
   "id": "079a608d",
   "metadata": {
    "tags": []
   },
   "outputs": [],
   "source": [
    "for jobid in jobids:\n",
    "    ranger_report = ReporterRanger(RANGER_RESULTS[jobid])\n",
    "    ranger_report.get_summary()"
   ]
  },
  {
   "cell_type": "markdown",
   "id": "8dd0149b",
   "metadata": {
    "jp-MarkdownHeadingCollapsed": true,
    "tags": []
   },
   "source": [
    "## Create a triangle surface mesh model for the edge of the dataset."
   ]
  },
  {
   "cell_type": "code",
   "execution_count": null,
   "id": "626c16eb",
   "metadata": {
    "tags": []
   },
   "outputs": [],
   "source": [
    "# configure paraprobe-surfacer\n",
    "SURFACER_CONFIG = {}\n",
    "for jobid in jobids:\n",
    "    surfacer = ParmsetupSurfacer()\n",
    "    SURFACER_CONFIG[jobid] = surfacer.compute_convex_hull_edge_model(\n",
    "        recon_fpath=f\"{MY_PROCESSED_DATA_PATH}/PARAPROBE.Transcoder.Results.SimID.{jobid}.nxs\",\n",
    "        range_fpath=f\"{MY_PROCESSED_DATA_PATH}/PARAPROBE.Ranger.Results.SimID.{jobid}.nxs\",\n",
    "        jobid=jobid)\n",
    "print(SURFACER_CONFIG)"
   ]
  },
  {
   "cell_type": "code",
   "execution_count": null,
   "id": "9018049d",
   "metadata": {
    "tags": []
   },
   "outputs": [],
   "source": [
    "# inspect config if necessary\n",
    "get_file_size(SURFACER_CONFIG[jobid])\n",
    "# H5Web(SURFACER_CONFIG[jobid])"
   ]
  },
  {
   "cell_type": "code",
   "execution_count": null,
   "id": "23a2e303",
   "metadata": {
    "tags": []
   },
   "outputs": [],
   "source": [
    "# execute paraprobe-surfacer C/C++ tool\n",
    "SURFACER_RESULTS = {}\n",
    "for jobid in jobids:\n",
    "    CONFIG = SURFACER_CONFIG[jobid]\n",
    "    STDOUT, STDERR = get_std(\"surfacer\", jobid)\n",
    "    ! export OMP_NUM_THREADS=1 && mpiexec -n 1 paraprobe_surfacer $jobid $CONFIG 1>$STDOUT 2>$STDERR\n",
    "    SURFACER_RESULTS[jobid] = f\"PARAPROBE.Surfacer.Results.SimID.{jobid}.nxs\"\n",
    "print(SURFACER_RESULTS)"
   ]
  },
  {
   "cell_type": "code",
   "execution_count": null,
   "id": "89d22f0a",
   "metadata": {
    "tags": []
   },
   "outputs": [],
   "source": [
    "# inspect paraprobe-surfacer results\n",
    "get_file_size(SURFACER_RESULTS[jobid])\n",
    "# H5Web(SURFACER_RESULTS[jobid])"
   ]
  },
  {
   "cell_type": "code",
   "execution_count": null,
   "id": "540bb5ee-7ebb-4a06-b025-14b98b8a7589",
   "metadata": {
    "tags": []
   },
   "outputs": [],
   "source": [
    "# perform additional customized data analyses here if desired, either through writing analysis code directly in the notebook"
   ]
  },
  {
   "cell_type": "markdown",
   "id": "f101e1c0",
   "metadata": {
    "jp-MarkdownHeadingCollapsed": true,
    "tags": []
   },
   "source": [
    "## Compute Euclidean distances of all ions to the edge of the dataset."
   ]
  },
  {
   "cell_type": "code",
   "execution_count": null,
   "id": "8bf29b3e",
   "metadata": {
    "tags": []
   },
   "outputs": [],
   "source": [
    "# configure paraprobe-distancer\n",
    "DISTANCER_CONFIG = {}\n",
    "for jobid in jobids:\n",
    "    distancer = ParmsetupDistancer()\n",
    "    DISTANCER_CONFIG[jobid] = distancer.compute_ion_to_edge_model_distances(\n",
    "        recon_fpath=f\"{MY_PROCESSED_DATA_PATH}/PARAPROBE.Transcoder.Results.SimID.{jobid}.nxs\",\n",
    "        range_fpath=f\"{MY_PROCESSED_DATA_PATH}/PARAPROBE.Ranger.Results.SimID.{jobid}.nxs\",\n",
    "        edge_fpath=f\"{MY_PROCESSED_DATA_PATH}/PARAPROBE.Surfacer.Results.SimID.{jobid}.nxs\",\n",
    "        jobid=jobid)\n",
    "print(DISTANCER_CONFIG)"
   ]
  },
  {
   "cell_type": "code",
   "execution_count": null,
   "id": "4554dad9",
   "metadata": {
    "tags": []
   },
   "outputs": [],
   "source": [
    "# inspect config if desired\n",
    "get_file_size(DISTANCER_CONFIG[jobid])\n",
    "# H5Web(DISTANCER_CONFIG[jobid])"
   ]
  },
  {
   "cell_type": "code",
   "execution_count": null,
   "id": "93b9eb37",
   "metadata": {
    "tags": []
   },
   "outputs": [],
   "source": [
    "# execute paraprobe-distancer C/C++ tool\n",
    "DISTANCER_RESULTS = {}\n",
    "for jobid in jobids:\n",
    "    CONFIG = DISTANCER_CONFIG[jobid]\n",
    "    STDOUT, STDERR = get_std(\"distancer\", jobid)\n",
    "    ! export OMP_NUM_THREADS=$MYOMP && mpiexec -n 1 paraprobe_distancer $jobid $CONFIG 1>$STDOUT 2>$STDERR\n",
    "    DISTANCER_RESULTS[jobid] = f\"PARAPROBE.Distancer.Results.SimID.{jobid}.nxs\"\n",
    "print(DISTANCER_RESULTS)"
   ]
  },
  {
   "cell_type": "code",
   "execution_count": null,
   "id": "fd06722c",
   "metadata": {
    "tags": []
   },
   "outputs": [],
   "source": [
    "# inspect config if desired\n",
    "get_file_size(DISTANCER_RESULTS[jobid])\n",
    "# H5Web(DISTANCER_RESULTS[jobid])"
   ]
  },
  {
   "cell_type": "markdown",
   "id": "5de78c1b",
   "metadata": {
    "tags": []
   },
   "source": [
    "See how to post-process results from paraprobe-distancer using paraprobe-reporter."
   ]
  },
  {
   "cell_type": "code",
   "execution_count": null,
   "id": "f142f7d4",
   "metadata": {
    "tags": []
   },
   "outputs": [],
   "source": [
    "# additional corporate design/preconfigured analyses from paraprobe-reporter\n",
    "DISTANCER_PLOT = {}\n",
    "for jobid in jobids:\n",
    "    distancer_report = ReporterDistancer(DISTANCER_RESULTS[jobid], entry_id=1)\n",
    "    distancer_report.get_summary(quantiles=[0.01, 0.50, 0.99], threshold=1.)\n",
    "    DISTANCER_PLOT[jobid] = distancer_report.get_ion2mesh_distance_cdf(quantile_based=True)\n",
    "    # set quantile_based=False if you would like to generate the complete curve which might take much longer computationally though\n",
    "print(DISTANCER_PLOT)"
   ]
  },
  {
   "cell_type": "code",
   "execution_count": null,
   "id": "f9fe91cc",
   "metadata": {},
   "outputs": [],
   "source": [
    "Image(filename=DISTANCER_PLOT[jobid], width=500, height=500)"
   ]
  },
  {
   "cell_type": "markdown",
   "id": "712f9cfe-570b-4767-8e0f-d7e52fb330c7",
   "metadata": {},
   "source": [
    "The idea of paraprobe-reporter is that you can use it to register frequently used scripts and allow for sharing of Python code."
   ]
  },
  {
   "cell_type": "markdown",
   "id": "95abf4da",
   "metadata": {
    "jp-MarkdownHeadingCollapsed": true,
    "tags": []
   },
   "source": [
    "## Tessellate the ion point cloud."
   ]
  },
  {
   "cell_type": "code",
   "execution_count": null,
   "id": "3827c1c7",
   "metadata": {
    "tags": []
   },
   "outputs": [],
   "source": [
    "# configure paraprobe-tessellator\n",
    "TESSELLATOR_CONFIG = {}\n",
    "for jobid in jobids:\n",
    "    tessellator = ParmsetupTessellator()\n",
    "    TESSELLATOR_CONFIG[jobid] = tessellator.compute_complete_voronoi_tessellation(\n",
    "        recon_fpath=f\"{MY_PROCESSED_DATA_PATH}/PARAPROBE.Transcoder.Results.SimID.{jobid}.nxs\",\n",
    "        range_fpath=f\"{MY_PROCESSED_DATA_PATH}/PARAPROBE.Ranger.Results.SimID.{jobid}.nxs\",\n",
    "        jobid=jobid)\n",
    "print(TESSELLATOR_CONFIG)"
   ]
  },
  {
   "cell_type": "code",
   "execution_count": null,
   "id": "01daff56",
   "metadata": {
    "tags": []
   },
   "outputs": [],
   "source": [
    "# inspect config if desired\n",
    "get_file_size(TESSELLATOR_CONFIG[jobid])\n",
    "# H5Web(TESSELLATOR_CONFIG[jobid])"
   ]
  },
  {
   "cell_type": "code",
   "execution_count": null,
   "id": "162dde80",
   "metadata": {
    "tags": []
   },
   "outputs": [],
   "source": [
    "# execute paraprobe-tessellator C/C++ tool\n",
    "TESSELLATOR_RESULTS = {}\n",
    "for jobid in jobids:\n",
    "    CONFIG = TESSELLATOR_CONFIG[jobid]\n",
    "    STDOUT, STDERR = get_std(\"tessellator\", jobid)\n",
    "    ! export OMP_NUM_THREADS=$MYOMP && mpiexec -n 1 paraprobe_tessellator $jobid $CONFIG 1>$STDOUT 2>$STDERR\n",
    "    TESSELLATOR_RESULTS[jobid] = f\"PARAPROBE.Tessellator.Results.SimID.{jobid}.nxs\"\n",
    "print(TESSELLATOR_RESULTS)"
   ]
  },
  {
   "cell_type": "code",
   "execution_count": null,
   "id": "8e66daac",
   "metadata": {
    "tags": []
   },
   "outputs": [],
   "source": [
    "# inspect paraprobe-tessellator results\n",
    "get_file_size(TESSELLATOR_RESULTS[jobid])\n",
    "# H5Web(TESSELLATOR_RESULTS[jobid])"
   ]
  },
  {
   "cell_type": "markdown",
   "id": "d62d914b",
   "metadata": {
    "tags": []
   },
   "source": [
    "See how to post-process paraprobe-tessellator results with paraprobe-reporter."
   ]
  },
  {
   "cell_type": "code",
   "execution_count": null,
   "id": "4b48499e",
   "metadata": {
    "tags": []
   },
   "outputs": [],
   "source": [
    "# additional corporate design/preconfigured analyses from paraprobe-reporter\n",
    "TESSELLATOR_PLOT = {}\n",
    "for jobid in jobids:\n",
    "    tessellator_report = ReporterTessellator(TESSELLATOR_RESULTS[jobid], entry_id=1)\n",
    "    tessellator_report.get_summary()\n",
    "    TESSELLATOR_PLOT[jobid] = tessellator_report.get_cell_volume_cdf(task_id=1, quantile_based=True)\n",
    "print(TESSELLATOR_PLOT)"
   ]
  },
  {
   "cell_type": "code",
   "execution_count": null,
   "id": "405c3f19",
   "metadata": {},
   "outputs": [],
   "source": [
    "Image(filename=TESSELLATOR_PLOT[jobid], width=500, height=500)"
   ]
  },
  {
   "cell_type": "code",
   "execution_count": null,
   "id": "9301dc68",
   "metadata": {},
   "outputs": [],
   "source": [
    "# alternatively you can of course also post-process the results yourself and inspect beyond what paraprobe-reporter offers"
   ]
  },
  {
   "cell_type": "markdown",
   "id": "a7b781f7-b20c-4c7c-a98a-e33f3d50366e",
   "metadata": {
    "jp-MarkdownHeadingCollapsed": true
   },
   "source": [
    "## Optionally select a specific ROI and find which ions are inside using paraprobe-selector."
   ]
  },
  {
   "cell_type": "markdown",
   "id": "f3901b3e-ae89-4e79-b5df-63ac50a3256d",
   "metadata": {},
   "source": [
    "Paraprobe-selector is a tool which can be used to identify which ions are located inside the volume<br>\n",
    "(or on the surface ) of a complex set of geometric primitives. The tool yields a mask which can be<br>\n",
    "used for many applications."
   ]
  },
  {
   "cell_type": "markdown",
   "id": "89bdec82-1c35-4a43-a2cf-defefce9c134",
   "metadata": {},
   "source": [
    "Here is an example how we can compute classically an axis-aligned box about and the center of mass of the dataset."
   ]
  },
  {
   "cell_type": "code",
   "execution_count": null,
   "id": "c5643530-1430-41ac-9d83-479108c761df",
   "metadata": {},
   "outputs": [],
   "source": [
    "# get axis-aligned bounding box of the reconstructed volume\n",
    "with h5py.File(\"PARAPROBE.Transcoder.Results.SimID.1.nxs\", \"r\") as h5r:\n",
    "    xyz = h5r[\"/entry1/atom_probe/reconstruction/reconstructed_positions\"][:, :]\n",
    "    aabb = np.zeros([3, 2], np.float32)\n",
    "    center = [0., 0., 0.]  # np.zeros([3], np.float32)\n",
    "    for i in np.arange(0, 3):\n",
    "        aabb[i, 0] = np.min(xyz[:, i])\n",
    "        aabb[i, 1] = np.max(xyz[:, i])\n",
    "        center[i] = 0.5 * (aabb[i, 0] + aabb[i, 1])\n",
    "    del xyz\n",
    "    print(\"aabb bounding box\")\n",
    "    print(aabb)\n",
    "    print(\"aabb center\")\n",
    "    print(center)\n",
    "    print(np.shape(center))"
   ]
  },
  {
   "cell_type": "code",
   "execution_count": null,
   "id": "a2fef9e8-59bf-4e7a-aea5-3c794939f361",
   "metadata": {},
   "outputs": [],
   "source": [
    "# configure paraprobe-selector\n",
    "SELECTOR_CONFIG = {}\n",
    "for jobid in jobids:\n",
    "    selector = ParmsetupSelector()\n",
    "    # define two tasks, first instantiate a task object\n",
    "    task = RoiSelectionTask()\n",
    "    task.load_reconstruction(recon_fpath=f\"{MY_PROCESSED_DATA_PATH}/PARAPROBE.Transcoder.Results.SimID.{jobid}.nxs\")\n",
    "    task.load_ranging(iontypes_fpath=f\"{MY_PROCESSED_DATA_PATH}/PARAPROBE.Ranger.Results.SimID.{jobid}.nxs\")\n",
    "    task.flt.add_spatial_filter(primitive_list=[RoiRotatedCuboid(center=center, boxdims=[10., 10., 40.])])\n",
    "    task.flt.add_evaporation_id_filter(lival=(0, 2, np.iinfo(np.uint32).max))  # each second ion only\n",
    "    # task.flt.add_iontyp_filter()\n",
    "    # task.flt.add_hit_multiplicity_filter()\n",
    "    selector.add_task(task)\n",
    "    SELECTOR_CONFIG[jobid] = selector.configure(jobid)  #, verbose=True)\n",
    "print(SELECTOR_CONFIG)"
   ]
  },
  {
   "cell_type": "code",
   "execution_count": null,
   "id": "e9addbac-a715-4e12-83f8-e5292bce297a",
   "metadata": {},
   "outputs": [],
   "source": [
    "# inspect paraprobe-selector config, if desired\n",
    "get_file_size(SELECTOR_CONFIG[jobid])\n",
    "# H5Web(SELECTOR_CONFIG[jobid])"
   ]
  },
  {
   "cell_type": "code",
   "execution_count": null,
   "id": "dec1167e-a787-4847-8fa2-5f511e011503",
   "metadata": {},
   "outputs": [],
   "source": [
    "# execute paraprobe-selector C/C++ tool\n",
    "SELECTOR_RESULTS = {}\n",
    "for jobid in jobids:\n",
    "    CONFIG = SELECTOR_CONFIG[jobid]\n",
    "    STDOUT, STDERR = get_std(\"selector\", jobid)\n",
    "    ! export OMP_NUM_THREADS=$MYOMP && mpiexec -n 1 paraprobe_selector $jobid $CONFIG 1>$STDOUT 2>$STDERR\n",
    "    SELECTOR_RESULTS[jobid] = f\"PARAPROBE.Selector.Results.SimID.{jobid}.nxs\"\n",
    "print(SELECTOR_RESULTS)"
   ]
  },
  {
   "cell_type": "code",
   "execution_count": null,
   "id": "0d586a1e-2319-47d5-be04-73763d955c6f",
   "metadata": {},
   "outputs": [],
   "source": [
    "# inspect paraprobe-selector results\n",
    "get_file_size(SELECTOR_RESULTS[jobid])\n",
    "# H5Web(SELECTOR_RESULTS[jobid])"
   ]
  },
  {
   "cell_type": "markdown",
   "id": "80f00e25-dd47-4385-b731-3d72c24bb1ed",
   "metadata": {},
   "source": [
    "An example how to access and decode the bitmask using paraprobe-reporter."
   ]
  },
  {
   "cell_type": "code",
   "execution_count": null,
   "id": "0e8ce27a-6586-4e75-af32-00a84556c7cf",
   "metadata": {},
   "outputs": [],
   "source": [
    "for jobid in jobids:\n",
    "    print(f\"{jobid}\")\n",
    "    selector_report = ReporterSelector(SELECTOR_RESULTS[jobid])\n",
    "    selector_report.get_summary()"
   ]
  },
  {
   "cell_type": "markdown",
   "id": "364dcefe-90b4-43ef-9106-9b5c20063424",
   "metadata": {
    "jp-MarkdownHeadingCollapsed": true,
    "tags": []
   },
   "source": [
    "## Optionally compute spatial statistics."
   ]
  },
  {
   "cell_type": "code",
   "execution_count": null,
   "id": "72621959-bddd-4d73-adb3-99e19dde5510",
   "metadata": {},
   "outputs": [],
   "source": [
    "# configure paraprobe-spatstat\n",
    "SPATSTAT_CONFIG = {}\n",
    "for jobid in jobids:\n",
    "    spatstat = ParmsetupSpatstat()   \n",
    "    # define two tasks, first instantiate a task object\n",
    "    task = SpatstatTask()\n",
    "    task.load_reconstruction(\n",
    "        recon_fpath=f\"{MY_PROCESSED_DATA_PATH}/PARAPROBE.Transcoder.Results.SimID.{jobid}.nxs\")\n",
    "    task.load_ranging(\n",
    "        iontypes_fpath=f\"{MY_PROCESSED_DATA_PATH}/PARAPROBE.Ranger.Results.SimID.{jobid}.nxs\")\n",
    "    # add filter as is exemplified for paraprobe-selector\n",
    "    task.load_ion_to_edge_distances(\n",
    "        fpath=f\"PARAPROBE.Distancer.Results.SimID.{jobid}.nxs\",\n",
    "        dset_name=f\"/entry1/point_to_triangle/distance\",\n",
    "        d_edge=0.160)\n",
    "    task.load_ion_to_feature_distances(\n",
    "        fpath=f\"{MY_PROCESSED_DATA_PATH}/PARAPROBE.Distancer.Results.SimID.{jobid}.nxs\",\n",
    "        dset_name=f\"/entry1/point_to_triangle/distance\",\n",
    "        d_feature=0.678)\n",
    "    # from the 1% to the 5% of the signed distance distribution\n",
    "    # this will place ROIs at all those (source) ions laying at least d_edge from the edge\n",
    "    # we also use the edge for the feature mesh (here for demonstration purposes, one could also use something else e.g. interface mesh, isosurface etc.)\n",
    "    # do not place ROIs at all those (source) ions laying farther away than d_feature to the edge\n",
    "    # here the feature is the edge, in this case we can compute spatial statistics with ions\n",
    "    # within a specifically customized shell closer to the edge than feature distance but not placing ROIs the subset\n",
    "    # of these ions which are closer to the edge than edge distance        super().__init__(\"spatstat\", \"spatial_statistics1\")\n",
    "    # in addition we do not need to analyze the entire dataset, but we can also restrict the analysis to a particular window filter region of interest\n",
    "    # task.flt.add_spatial_filter(primitive_list=[RoiRotatedCuboid(center=center, boxdims=[10., 10., 40.])])\n",
    "    # task.flt.add_evaporation_id_filter(lival=(0, 1, np.iinfo(np.uint32).max))\n",
    "    # task.flt.add_iontyp_filter()\n",
    "    # task.flt.add_hit_multiplicity_filter()\n",
    "    task.ion_types_source(method=\"resolve_all\")\n",
    "    task.ion_types_target(method=\"resolve_all\")\n",
    "    # either or\n",
    "    task.set_knn(kth=1, binwidth=0.01, rmax=2.)\n",
    "    # task.set_rdf(binwidth=0.01, rmax=2.)\n",
    "    spatstat.add_task(task)\n",
    "    \n",
    "    SPATSTAT_CONFIG[jobid] = spatstat.configure(jobid)  # , verbose=True)\n",
    "print(SPATSTAT_CONFIG)"
   ]
  },
  {
   "cell_type": "code",
   "execution_count": null,
   "id": "8e86ab15-c2d2-44bc-a63f-fd972bf6f5a1",
   "metadata": {},
   "outputs": [],
   "source": [
    "# inspect paraprobe-spatstat config, if desired\n",
    "get_file_size(SPATSTAT_CONFIG[jobid])\n",
    "# H5Web(SPATSTAT_CONFIG[jobid])"
   ]
  },
  {
   "cell_type": "code",
   "execution_count": null,
   "id": "932b4f72-1dbb-4015-a664-4c92f96f71ca",
   "metadata": {
    "tags": []
   },
   "outputs": [],
   "source": [
    "# execute paraprobe-spatstat C/C++ tool\n",
    "SPATSTAT_RESULTS = {}\n",
    "for jobid in jobids:\n",
    "    CONFIG = SPATSTAT_CONFIG[jobid]\n",
    "    STDOUT, STDERR = get_std(\"spatstat\", jobid)\n",
    "    ! export OMP_NUM_THREADS=$MYOMP && mpiexec -n 1 paraprobe_spatstat $jobid $CONFIG 1>$STDOUT 2>$STDERR\n",
    "    SPATSTAT_RESULTS[jobid] = f\"PARAPROBE.Spatstat.Results.SimID.{jobid}.nxs\"\n",
    "print(SPATSTAT_RESULTS)"
   ]
  },
  {
   "cell_type": "code",
   "execution_count": null,
   "id": "a8c4e625-f09d-42f6-88ef-334960c6fdb2",
   "metadata": {},
   "outputs": [],
   "source": [
    "# inspect paraprobe-spatstat results\n",
    "get_file_size(SPATSTAT_RESULTS[jobid])\n",
    "# H5Web(SPATSTAT_RESULTS[jobid])"
   ]
  },
  {
   "cell_type": "markdown",
   "id": "aad5ae84-1317-48e8-ac96-e858dbf61297",
   "metadata": {
    "tags": []
   },
   "source": [
    "See how to post-process paraprobe-spatstat results with paraprobe-reporter."
   ]
  },
  {
   "cell_type": "markdown",
   "id": "b4241b65-48bd-41bb-8171-ff995bd164c7",
   "metadata": {},
   "source": [
    "<div class=\"alert alert-block alert-warning\">\n",
    "For computing RDFs according to B. Gault et al. (https://dx.doi.org/10.1007/978-1-4614-3436-8)<br>\n",
    "do not forget to define a proper value for $\\frac{1}{\\rho}$ the scaling density of the RDF.</div>"
   ]
  },
  {
   "cell_type": "code",
   "execution_count": null,
   "id": "aaa0b718-f664-44ac-8694-a61be1f049a8",
   "metadata": {},
   "outputs": [],
   "source": [
    "# additional corporate design/preconfigured analyses from paraprobe-reporter\n",
    "SPATSTAT_PLOT = {}\n",
    "for jobid in jobids:\n",
    "    spatstat_report = ReporterSpatstat(SPATSTAT_RESULTS[jobid], entry_id=1)\n",
    "    spatstat_report.get_knn(task_id=1)\n",
    "    # spatstat_report.get_rdf(1, normalizer=1./1.) # dont forget to make a proper estimate for rho!"
   ]
  },
  {
   "cell_type": "code",
   "execution_count": null,
   "id": "0ed10c86-4f67-4b4d-83b8-96c84b4474e9",
   "metadata": {},
   "outputs": [],
   "source": [
    "Image(filename=\"PARAPROBE.Spatstat.Results.SimID.1.nxs.EntryId.1.TaskId.1.Knn.Pdf.png\", width=500, height=500)\n",
    "# Image(filename=\"PARAPROBE.Spatstat.Results.SimID.1.nxs.EntryId.1.TaskId.1.Rdf.png\", width=500, height=500)"
   ]
  },
  {
   "cell_type": "markdown",
   "id": "3dce3a3f",
   "metadata": {
    "tags": []
   },
   "source": [
    "# 2. High-throughput characterization of Cr iso-composition surfaces\n",
    "***"
   ]
  },
  {
   "cell_type": "markdown",
   "id": "be617747",
   "metadata": {
    "heading_collapsed": "true",
    "jp-MarkdownHeadingCollapsed": true,
    "tags": []
   },
   "source": [
    "## Characterize Cr rich objects if existent"
   ]
  },
  {
   "cell_type": "markdown",
   "id": "67861b5c",
   "metadata": {},
   "source": [
    "We use paraprobe-nanochem, the same tool that can also be used for high-throughput iso-surface based analyses, composition profiling, and iso-surface-based edge modelling."
   ]
  },
  {
   "cell_type": "code",
   "execution_count": null,
   "id": "ed591ab5",
   "metadata": {
    "tags": []
   },
   "outputs": [],
   "source": [
    "# configure paraprobe-nanochem\n",
    "# high-throughput scanning of iso-surfaces and analyses of closed objects represented by patches of iso-surfaces, use this also as the first step for coprecipitation analyses\n",
    "NANOCHEM_CONFIG = {}\n",
    "for jobid in jobids:    \n",
    "    nanochem = ParmsetupNanochem()\n",
    "    \n",
    "    task = Delocalization()\n",
    "    task.load_reconstruction(\n",
    "        recon_fpath=f\"{MY_PROCESSED_DATA_PATH}/PARAPROBE.Transcoder.Results.SimID.{jobid}.nxs\")\n",
    "    task.load_ranging(\n",
    "        iontypes_fpath=f\"{MY_PROCESSED_DATA_PATH}/PARAPROBE.Ranger.Results.SimID.{jobid}.nxs\")\n",
    "    task.load_edge_model(\n",
    "        fpath=f\"{MY_PROCESSED_DATA_PATH}/PARAPROBE.Surfacer.Results.SimID.{jobid}.nxs\",\n",
    "        vertices_dset_name=\"/entry1/point_set_wrapping/alpha_complex1/triangle_set/triangles/vertices\",\n",
    "        facet_indices_dset_name=\"/entry1/point_set_wrapping/alpha_complex1/triangle_set/triangles/faces\")\n",
    "    task.load_ion_to_edge_distances(\n",
    "        fpath=f\"PARAPROBE.Distancer.Results.SimID.{jobid}.nxs\",\n",
    "        dset_name=f\"/entry1/point_to_triangle/distance\")\n",
    "    # no optional filters, we want to analyze the entire dataset\n",
    "    # define high-throughput job of e.g. multiple delocalization tasks with each creating multiple iso-surfaces\n",
    "    task.set_delocalization_input(method=\"compute\")\n",
    "    task.set_delocalization_normalization(method=\"composition\")  # normalize to atomic fraction (at.-%)\n",
    "    task.set_delocalization_whitelist(method=\"resolve_element\", nuclide_hash=[\"Cr\"], charge_state=[])  # iso-surface defined by all atoms of (molecular) ions with Cr in it ...\n",
    "    task.set_delocalization_gridresolutions(length=[1.])  # nm, list of voxel edge length, for each length one analysis\n",
    "    task.set_delocalization_kernel(sigma=[1.], size=2)  # nm and pixel respectively\n",
    "    task.set_delocalization_isosurfaces(phi=np.linspace(start=0.01, stop=0.05, num=5, endpoint=True)) # isosurface starting at 4 at.-% in steps of 1 at.-% until 5 at.-%\n",
    "    # task.set_delocalization_isosurfaces(phi=[0.04]) # isosurface only for 4 at.-% \n",
    "    task.set_delocalization_edge_handling(method=\"keep_edge_triangles\")\n",
    "    task.set_delocalization_edge_threshold(1.)\n",
    "    task.report_fields_and_gradients(True)\n",
    "    task.report_triangle_soup(True)\n",
    "    task.report_objects(True)\n",
    "    task.report_objects_properties(True)\n",
    "    task.report_objects_geometry(True)\n",
    "    task.report_objects_optimal_bounding_box(True)\n",
    "    task.report_objects_ions(True)\n",
    "    task.report_objects_edge_contact(True)\n",
    "    # combinatorial closure of objects that are not watertight\n",
    "    task.report_proxies(False)\n",
    "    task.report_proxies_properties(False)\n",
    "    task.report_proxies_geometry(False)\n",
    "    task.report_proxies_optimal_bounding_box(False)\n",
    "    task.report_proxies_ions(False)\n",
    "    task.report_proxies_edge_contact(False)\n",
    "    \n",
    "    nanochem.add_task(task)\n",
    "    NANOCHEM_CONFIG[jobid] = nanochem.configure(jobid)  # , verbose=True)\n",
    "print(NANOCHEM_CONFIG)"
   ]
  },
  {
   "cell_type": "code",
   "execution_count": null,
   "id": "ed1d0be4",
   "metadata": {
    "scrolled": true,
    "tags": []
   },
   "outputs": [],
   "source": [
    "# inspect config if desired\n",
    "get_file_size(NANOCHEM_CONFIG[jobid])\n",
    "# H5Web(NANOCHEM_CONFIG[jobid])"
   ]
  },
  {
   "cell_type": "code",
   "execution_count": null,
   "id": "f112617e",
   "metadata": {
    "tags": []
   },
   "outputs": [],
   "source": [
    "# execute paraprobe-nanochem C/C++ tool\n",
    "NANOCHEM_RESULTS = {}\n",
    "for jobid in jobids:\n",
    "    CONFIG = NANOCHEM_CONFIG[jobid]\n",
    "    STDOUT, STDERR = get_std(\"nanochem\", jobid)\n",
    "    ! export OMP_NUM_THREADS=$MYOMP && mpiexec -n 1 paraprobe_nanochem $jobid $CONFIG 1>$STDOUT 2>$STDERR\n",
    "    NANOCHEM_RESULTS[jobid] = f\"PARAPROBE.Nanochem.Results.SimID.{jobid}.nxs\"\n",
    "print(NANOCHEM_RESULTS)"
   ]
  },
  {
   "cell_type": "code",
   "execution_count": null,
   "id": "d0cd66ed",
   "metadata": {
    "tags": []
   },
   "outputs": [],
   "source": [
    "# inspect paraprobe-nanochem results\n",
    "get_file_size(NANOCHEM_RESULTS[jobid])\n",
    "# H5Web(NANOCHEM_RESULTS[jobid])"
   ]
  },
  {
   "cell_type": "markdown",
   "id": "0a44a698-6c42-467c-ae73-8b045964d548",
   "metadata": {
    "tags": []
   },
   "source": [
    "See how to post-process paraprobe-nanochem results with paraprobe-reporter."
   ]
  },
  {
   "cell_type": "code",
   "execution_count": null,
   "id": "82ee1e66-c2ce-478d-82f9-6260951f961b",
   "metadata": {},
   "outputs": [],
   "source": [
    "# directly with e.g. Python\n",
    "with h5py.File(NANOCHEM_RESULTS[jobid], \"r\") as h5r:\n",
    "    print(np.sum(h5r[\"/entry1/delocalization1/grid/scalar_field_magn_total/xdmf_intensity\"][:]))"
   ]
  },
  {
   "cell_type": "code",
   "execution_count": null,
   "id": "4c1c8858-8611-4fa6-ac36-408020d2067f",
   "metadata": {
    "tags": []
   },
   "outputs": [],
   "source": [
    "# or additional corporate design/preconfigured analyses from paraprobe-reporter\n",
    "for jobid in jobids:\n",
    "    nanochem_report = ReporterNanochem(NANOCHEM_RESULTS[jobid])\n",
    "    nanochem_report.get_delocalization(deloc_task_id=1)\n",
    "    print(nanochem_report.delocalization.isosurface_tasks.keys())\n",
    "    for isrf_task_id in nanochem_report.delocalization.isosurface_tasks.keys():\n",
    "        print(f\"isosurface_task_id {isrf_task_id}\")\n",
    "        print(nanochem_report.delocalization.isosurface_tasks[isrf_task_id].isovalue)\n",
    "    nanochem_report.get_isosurface_objects_volume_and_number_over_isovalue(deloc_task_id=1)"
   ]
  },
  {
   "cell_type": "code",
   "execution_count": null,
   "id": "d5373d3e-5017-4692-b66d-f1d001833a08",
   "metadata": {
    "tags": []
   },
   "outputs": [],
   "source": [
    "NANOCHEM_PLOT = \"PARAPROBE.Nanochem.Results.SimID.1.nxs.EntryId.1.DelocTaskId.1.VolOverIsoComposition.png\"\n",
    "NANOCHEM_PLOT = \"PARAPROBE.Nanochem.Results.SimID.1.nxs.EntryId.1.DelocTaskId.1.NumberOverIsoComposition.png\"\n",
    "Image(filename=NANOCHEM_PLOT, width=500, height=500)"
   ]
  },
  {
   "cell_type": "markdown",
   "id": "6ebd986f",
   "metadata": {},
   "source": [
    "When probing from 1at.-% to 21 at.-% Cr iso-composition, the number of objects and their accumulated volume<br>\n",
    "changes as a function of iso-value. Shown here exemplarily are objects which are located sufficiently inside the<br>\n",
    "dataset, i.e. $\\geq d_{edge}$.<br>"
   ]
  },
  {
   "cell_type": "markdown",
   "id": "5b2d9400-87f2-4226-80d5-2c29931d46a0",
   "metadata": {
    "jp-MarkdownHeadingCollapsed": true
   },
   "source": [
    "# 3. High-throughput clustering analyses\n",
    "***"
   ]
  },
  {
   "cell_type": "code",
   "execution_count": null,
   "id": "c2cf54b6-9103-48e2-b0b9-23429beafac6",
   "metadata": {},
   "outputs": [],
   "source": [
    "# configure paraprobe-clusterer\n",
    "CLUSTERER_CONFIG = {}\n",
    "for jobid in jobids:\n",
    "    clusterer = ParmsetupClusterer()\n",
    "    \n",
    "    task = ClustererTask()\n",
    "    task.load_reconstruction(recon_fpath=f\"{MY_PROCESSED_DATA_PATH}/PARAPROBE.Transcoder.Results.SimID.{jobid}.nxs\")\n",
    "    task.load_ranging(iontypes_fpath=f\"{MY_PROCESSED_DATA_PATH}/PARAPROBE.Ranger.Results.SimID.{jobid}.nxs\")\n",
    "    # add filter as is exemplified for paraprobe-selector\n",
    "    # no edge, no feature loaded    \n",
    "    task.set_ion_types_filter(\n",
    "        method='resolve_element', symbol_lst=[['O']])\n",
    "    \n",
    "    task.set_dbscan_task(\n",
    "        high_throughput_method=\"combinatorics\",\n",
    "        eps=[0.2, 0.8, 5.0],\n",
    "        min_pts=[1, 5])  #eps=np.linspace(0.2, 5.0, num=49, endpoint=True), 5.0, num=241, endpoint=True), \n",
    "    task.set_hdbscan_task(\n",
    "        high_throughput_method=\"combinatorics\",\n",
    "        min_cluster_size=[1, 2, 3, 4, 5],\n",
    "        min_samples=[1, 5],\n",
    "        cluster_selection_epsilon=[0.5, 1.0],\n",
    "        alpha=[1.0])\n",
    "    \n",
    "    clusterer.add_task(task)\n",
    "    CLUSTERER_CONFIG[jobid] = clusterer.configure(simid=jobid)  # verbose=True)\n",
    "print(CLUSTERER_CONFIG)"
   ]
  },
  {
   "cell_type": "code",
   "execution_count": null,
   "id": "0d194b5a-171e-4246-8fd0-591bb1e1a8a8",
   "metadata": {
    "scrolled": true
   },
   "outputs": [],
   "source": [
    "# optional inspect configuration\n",
    "get_file_size(CLUSTERER_CONFIG[jobid])\n",
    "# H5Web(CLUSTERER_CONFIG[jobid])"
   ]
  },
  {
   "cell_type": "code",
   "execution_count": null,
   "id": "b2668459-b5d7-4b8f-910d-485d9d010129",
   "metadata": {},
   "outputs": [],
   "source": [
    "# execute paraprobe-clusterer\n",
    "CLUSTERER_RESULTS = {}\n",
    "for jobid in jobids:\n",
    "    CONFIG = CLUSTERER_CONFIG[jobid]\n",
    "    clusterer = ParaprobeClusterer(CLUSTERER_CONFIG[jobid])\n",
    "    CLUSTERER_RESULTS[jobid] = clusterer.execute()\n",
    "print(CLUSTERER_RESULTS)"
   ]
  },
  {
   "cell_type": "code",
   "execution_count": null,
   "id": "76adfffa-6d53-49cc-a0aa-84031091e968",
   "metadata": {
    "scrolled": true
   },
   "outputs": [],
   "source": [
    "# post-process paraprobe-clusterer\n",
    "get_file_size(CLUSTERER_RESULTS[jobid])\n",
    "# H5Web(CLUSTERER_RESULTS[jobid])"
   ]
  },
  {
   "cell_type": "markdown",
   "id": "7f055137",
   "metadata": {
    "jp-MarkdownHeadingCollapsed": true
   },
   "source": [
    "# Conclusions\n",
    "***"
   ]
  },
  {
   "cell_type": "markdown",
   "id": "d6cc30c7",
   "metadata": {},
   "source": [
    "A typical workflow with the paraprobe-toolbox was exemplified for a Silicon test specimen.<br>\n",
    "Apart from offering guidance on how the tools can be used the tutorial shows that:<br>\n",
    "* Care has to be taken especially for small datasets when it comes to characterizing the number and properties of precipitates.<br>\n",
    "* The here presented tools enable users to perform these analyses with an automated provenance tracking to align better with the<br>\n",
    "  aims of the FAIR data stewardship principles. Specifically formatted HDF5 files use NeXus application definitions to document<br>\n",
    "  each result and keep track of versioned configuration files and versioned datasets to maximize efforts aiming at numerical reproducibility.<br>\n",
    "* Each tool keeps automatically track of the software tools called and stores timestamps when this happened.<br>\n",
    "* Furthermore, this tutorial shows how one can run parameter sweeping studies for clustering analyses on a dataset.<br>\n",
    "* This workflow can directly be applied to other dataset by changing foremost the name and path to the datasets and specific settings<br>."
   ]
  },
  {
   "cell_type": "markdown",
   "id": "7daeea1c",
   "metadata": {},
   "source": [
    "## Questions?\n",
    "***"
   ]
  },
  {
   "cell_type": "markdown",
   "id": "a7959402",
   "metadata": {},
   "source": [
    "If you run in problems or have suggestions how we can improve these tools, if you feel you can contribute a dataset<br>\n",
    "to support us with developing further these tools, or if you would like to get support with specific data analyses:<br>\n",
    "Feel free to contact me directly or members of the FAIRmat team: <a href=\"https://www.fairmat-nfdi.eu/fairmat/about-fairmat/team-fairmat\">M. Kühbach et al.</a>"
   ]
  },
  {
   "cell_type": "markdown",
   "id": "663910c2",
   "metadata": {},
   "source": [
    "## References, acknowledgements, funding\n",
    "***"
   ]
  },
  {
   "cell_type": "markdown",
   "id": "a3171d81",
   "metadata": {
    "collapsed": true,
    "jupyter": {
     "outputs_hidden": true
    }
   },
   "source": [
    "<a href=\"https://www.github.com/FAIRmat-NFDI/nexus_definitions\">Used NeXus/HDF5 data schemes can be found here.</a><br>\n",
    "(c) Markus Kühbach, 2024/04<br>\n",
    "\n",
    "<a href=\"https://www.fairmat-nfdi.eu/fairmat/\">FAIRmat</a> is a consortium on research data management which is part of the German NFDI.<br>\n",
    "The project is funded by the Deutsche Forschungsgemeinschaft (DFG, German Research Foundation) – project 460197019."
   ]
  },
  {
   "cell_type": "code",
   "execution_count": null,
   "id": "3017ebdb-36c3-4d23-98e5-873c598e41e9",
   "metadata": {},
   "outputs": [],
   "source": []
  }
 ],
 "metadata": {
  "kernelspec": {
   "display_name": "Python 3 (ipykernel)",
   "language": "python",
   "name": "python3"
  },
  "language_info": {
   "codemirror_mode": {
    "name": "ipython",
    "version": 3
   },
   "file_extension": ".py",
   "mimetype": "text/x-python",
   "name": "python",
   "nbconvert_exporter": "python",
   "pygments_lexer": "ipython3",
   "version": "3.12.2"
  }
 },
 "nbformat": 4,
 "nbformat_minor": 5
}
